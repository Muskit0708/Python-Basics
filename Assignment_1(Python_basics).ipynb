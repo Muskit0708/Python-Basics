{
  "nbformat": 4,
  "nbformat_minor": 0,
  "metadata": {
    "colab": {
      "provenance": [],
      "authorship_tag": "ABX9TyPxpvWwqt5sh1/KN1FGWev+",
      "include_colab_link": true
    },
    "kernelspec": {
      "name": "python3",
      "display_name": "Python 3"
    },
    "language_info": {
      "name": "python"
    }
  },
  "cells": [
    {
      "cell_type": "markdown",
      "metadata": {
        "id": "view-in-github",
        "colab_type": "text"
      },
      "source": [
        "<a href=\"https://colab.research.google.com/github/Muskit0708/Python-Basics/blob/main/Assignment_1(Python_basics).ipynb\" target=\"_parent\"><img src=\"https://colab.research.google.com/assets/colab-badge.svg\" alt=\"Open In Colab\"/></a>"
      ]
    },
    {
      "cell_type": "markdown",
      "source": [
        "# Assignment 1(Python basics)"
      ],
      "metadata": {
        "id": "EmOMG9_iEPVf"
      }
    },
    {
      "cell_type": "markdown",
      "source": [
        "#Q1)Explain the key features of Python that make it a popular choice for programming.\n",
        "\n",
        "Answer:-The key features of python that make it popular coice for programming are-\n",
        "\n",
        "1)It is widely used in the industry\n",
        "\n",
        "2)It has a lot of libraries\n",
        "\n",
        "3)It is best to be used for a frontend or a backend engineer and it is also easy for data analyses\n",
        "\n",
        "4)It has a huge active community working everytime"
      ],
      "metadata": {
        "id": "H-Fsj_emCF37"
      }
    },
    {
      "cell_type": "markdown",
      "source": [
        "#Q2)Describe the role of predefined keywords in Python and provide examples of how they are used in a program.\n",
        "\n",
        "Answer:-Predefined keywords are predefined words that holds a special meaning and have a specific purpose in python\n",
        "```\n",
        "# if 3>2:\n",
        "  print(\"greater\")\n",
        "```\n",
        "here if and print are predefined keywords and cannot be used as variables"
      ],
      "metadata": {
        "id": "UkIUgGi4DpTS"
      }
    },
    {
      "cell_type": "markdown",
      "source": [
        "#Q3)Compare and contrast mutable and immutable objects in Python with examples.\n",
        "\n",
        "Answer:-\n",
        "\n",
        "Mutable objects:-objects/container whose state or value can be changed after they are created are called as mutable objects or container,also called as item assignment.\n",
        "Mutable object supports item assignment.\n",
        "Examples:-lists\n",
        "```\n",
        "#list_cont=[1,2,3,4.3,3+5j,True,\"Ajay\"]\n",
        "list_cont\n",
        "```\n",
        "Immutable objects:-objects/container whose state or value can not be changed after they are created are called as immutable objects or container.\n",
        "Immutable object does not support item assignment.\n",
        "Example:-int,float,string\n",
        "```\n",
        "# b=\"pwskills\"\n",
        "b\n",
        "```\n",
        "```\n",
        "# a=5\n",
        "a\n",
        "```"
      ],
      "metadata": {
        "id": "2NwAwAqzGSIE"
      }
    },
    {
      "cell_type": "markdown",
      "source": [
        "#Q4)Discuss the different types of operators in Python and provide examples of how they are used.\n",
        "Answer:-The different types of operators in python are:-\n",
        "\n",
        "## 1.Airthmatic Operators:-These operators are used to perform mathematical operations on numeric values.\n",
        "\n",
        "Addition (+): Adds two operands. For example, 1 + 2 = 3.\n",
        "\n",
        "Subtraction (-): Subtracts two operands. For example, 5 - 2 = 3.\n",
        "\n",
        "Multiplication (*): Multiplies two operands. For example, 4 * 3 = 12.\n",
        "\n",
        "Division (/): Divides two operands. For example, 12 / 3 = 4.\n",
        "\n",
        "Modulus (%): Returns the remainder of a division operation. For example, 12 % 3 = 0.\n",
        "\n",
        "Exponentiation (**): Raises one operand to the power of another. For example,2** 3 = 8.\n",
        "\n",
        "Floor division (//): Returns the quotient of a division operation, rounded down to the nearest integer. For example,12 // 3 = 4.\n",
        "\n",
        "##2.Comparison operators:These operators are used to compare two values and return a Boolean value (True or False).\n",
        "\n",
        "Equal to (==): Returns True if the two operands are equal, False otherwise. For example, 1 == 2 is False.\n",
        "\n",
        "Not equal to (!=): Returns True if the two operands are not equal, False otherwise. For example, 1 != 2 is True.\n",
        "\n",
        "Greater than (>): Returns True if the left operand is greater than the right operand, False otherwise. For example, 3 > 2 is True.\n",
        "\n",
        "Greater than or equal to (>=): Returns True if the left operand is greater than or equal to the right operand, False otherwise. For example, 3 >= 2 is True.\n",
        "\n",
        "Less than (<): Returns True if the left operand is less than the right operand, False otherwise. For example, 2 < 3 is True.\n",
        "\n",
        "Less than or equal to (<=): Returns True if the left operand is less than or equal to the right operand, False otherwise. For example, 2 <= 3 is True\n",
        "\n",
        "##3.Logical operators:These operators are used to combine two or more Boolean values and return a single Boolean value.\n",
        "\n",
        "And (&): Returns True if both operands are True, False otherwise. For example, (1 == 2) and (2 == 3) is False.\n",
        "\n",
        "Or (|): Returns True if either operand is True, False otherwise. For example, (1 == 2) or (2 == 3) is True.\n",
        "\n",
        "Not (!): Returns the opposite of the operand. For example, not (1==2) is True.\n",
        "\n",
        "##4.Bitwise operators:These operators are used to perform bitwise operations on binary numbers.\n",
        "\n",
        "Bitwise and (&): Performs a bitwise AND operation on two binary numbers. For example, 1010 & 1100 = 1000\n",
        ".\n",
        "Bitwise or (|): Performs a bitwise OR operation on two binary numbers. For example, 1010 | 1100 = 1110.\n",
        "\n",
        "Bitwise XOR (^): Performs a bitwise XOR operation on two binary numbers. For example, 1010 ^ 1100 = 0110.\n",
        "\n",
        "Bitwise left shift (<<): Shifts the bits of a binary number to the left by a specified number of bits. For example, 1010 << 2 = 101000.\n",
        "\n",
        "Bitwise right shift (>>): Shifts the bits of a binary number to the right by a specified number of bits. For example, 1010>>2=0010.\n",
        "\n",
        "##5.Identity operators:These operators are used to determine whether two operands refer to the same object.\n",
        "\n",
        "Is (is): Returns True if the two operands refer to the same object, False otherwise. For example, a is a is True.\n",
        "\n",
        "Is not (is not): Returns True if the two operands do not refer to the same object, False otherwise. For example, a is not b is True\n",
        "\n",
        "##6.Membership operators:These operators are used to determine whether a value is a member of a sequence or collection.\n",
        "\n",
        "IN(in):Evaluates to true if it finds a variable in the specified sequence and false otherwise.For example,x in y, here in results in a 1 if x is a member of sequence y\n",
        "\n",
        "NOT IN(not in):Evaluates to true if it does not find a variable in the specified sequence and false otherwise.For example,x not in y, here not in results in a 1 if x is not a member of sequence y\n",
        "\n",
        "##7.Assignment operators:Python assignment operators are used to assign values to variables in Python.\n",
        "\n",
        "Assignment operator(=):-Example- a=10\n",
        "\n",
        "Addition assignment(+=):-Example- a+=5\n",
        "\n",
        "Subtraction assignment(-=):-Example- a-=5\n",
        "\n",
        "Multiplication assignment(*=):-Example- a*=5\n",
        "\n",
        "Division assignment(/=):-Example- a/=5\n",
        "\n",
        "Remainder assignment(%=):-Example- a%=5\n",
        "\n",
        "Exponent assignment(**=):-Example- a**=2\n",
        "\n",
        "Floor Division assignment(//=):-Example- a//=3\n",
        "\n",
        "\n"
      ],
      "metadata": {
        "id": "EdCINwwAGSPe"
      }
    },
    {
      "cell_type": "markdown",
      "source": [
        "# Q5)Explain the concept of type casting in Python with examples.\n",
        "\n",
        "Answer:-The process of changing the datatype of a value/object is called type casting.It is done because while executing/computationusing operators there can be mismatch between the data\n",
        "Examples:-\n",
        "```\n",
        "a=\"100\"\n",
        "b=6\n",
        "a=int(a)\n",
        "a+b\n",
        "```\n",
        "```\n",
        "a=\"2\"\n",
        "print(type(a))\n",
        "print(type(int(a)))\n",
        "```"
      ],
      "metadata": {
        "id": "O2g3cQMQGSRH"
      }
    },
    {
      "cell_type": "markdown",
      "source": [
        "#Q6)How do conditional statements work in Python? Illustrate with examples.\n",
        "\n",
        "Answer:-Conditional statements in Python allow you to control the flow of your program based on certain conditions. This is useful for making decisions about what code to execute, and for handling different scenarios.\n",
        "\n",
        "Types of conditionals statements are:-\n",
        "\n",
        "1.if condition:-\n",
        "```\n",
        "weather =\"rainy\"\n",
        "if (weather ==\"rainy\"):\n",
        "    print(\"i will not play cricket\")\n",
        "```\n",
        "2.if else:-\n",
        "```\n",
        "num=8\n",
        "if num%2 ==0:\n",
        "    print(\"even\")\n",
        "else:\n",
        "    print(\"odd\")\n",
        "```\n",
        "3.if elif else:-\n",
        "```\n",
        "a=10\n",
        "if a>100:\n",
        "    print(\"no is greater than 100\")\n",
        "elif a<100:\n",
        "    print(\"the no is less than 100\")\n",
        "else:\n",
        "    print(\"equals to 100\")\n",
        "```\n",
        "4.nested if else:-\n",
        "```\n",
        "x=5\n",
        "y=6\n",
        "if x>5:\n",
        "    if y>5:\n",
        "        print(\"both x and y is greater than 5\")\n",
        "    else:\n",
        "        print(\"x is greater than 5 but y is less than 5\")\n",
        "else:\n",
        "    print(\"x is not greater than 5 \")\n",
        "```"
      ],
      "metadata": {
        "id": "lzeXkV0WGSdN"
      }
    },
    {
      "cell_type": "markdown",
      "source": [
        "#Q7)Describe the different types of loops in Python and their use cases with examples.\n",
        "\n",
        "Answer:-The different types of loops in python are:-\n",
        "\n",
        "1.for loop:-The for loop is used to iterate over a sequence of values\n",
        "Syntax:- for <variable> in <sequence>:\n",
        "         block of code\n",
        "Example:-\n",
        "```\n",
        "for i in \"pwskills\":\n",
        "    print(i)\n",
        "```\n",
        "\n",
        "2.while loop:-The while loop repeatedly executes a block of code until a condition is met\n",
        "Syntax:-while condition:\n",
        "        block of code\n",
        "Example:-\n",
        "```\n",
        "n=7\n",
        "i=1\n",
        "while i<n:\n",
        "    print(i)\n",
        "    i=i+1\n",
        "```"
      ],
      "metadata": {
        "id": "fe06130pGdbz"
      }
    }
  ]
}