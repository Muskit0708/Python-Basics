{
 "cells": [
  {
   "cell_type": "code",
   "execution_count": 5,
   "id": "c2f1c610-be25-41ca-a372-693d22f20b9b",
   "metadata": {},
   "outputs": [
    {
     "name": "stdout",
     "output_type": "stream",
     "text": [
      "Hello World\n"
     ]
    }
   ],
   "source": [
    "print(\"Hello World\")"
   ]
  },
  {
   "cell_type": "raw",
   "id": "08ec1996-135b-4f4d-97d3-ab0204df8ca5",
   "metadata": {},
   "source": [
    "variables/identifiers>>placeholeders where we keep variety of data which we can use to write logic\n",
    "#Numbers>> integer/float\n",
    "#characters>> string in python\n",
    "#True/False>> boolean\n",
    "#None\n",
    "#Complex "
   ]
  },
  {
   "cell_type": "raw",
   "id": "c02d6ffd-7c42-4029-abdd-9cb6747c9ac7",
   "metadata": {},
   "source": [
    "Variables is a reserved memory space for storing value"
   ]
  },
  {
   "cell_type": "code",
   "execution_count": 3,
   "id": "9fefd487-b8e8-4c6b-8de9-73feae32b57e",
   "metadata": {},
   "outputs": [],
   "source": [
    "a=5"
   ]
  },
  {
   "cell_type": "code",
   "execution_count": 4,
   "id": "202b5741-e22c-491a-8326-9e6a376b6fdb",
   "metadata": {},
   "outputs": [
    {
     "data": {
      "text/plain": [
       "5"
      ]
     },
     "execution_count": 4,
     "metadata": {},
     "output_type": "execute_result"
    }
   ],
   "source": [
    "a\n"
   ]
  },
  {
   "cell_type": "code",
   "execution_count": 4,
   "id": "d4b405d7-815d-43f3-a585-279108548ddd",
   "metadata": {},
   "outputs": [
    {
     "data": {
      "text/plain": [
       "5"
      ]
     },
     "execution_count": 4,
     "metadata": {},
     "output_type": "execute_result"
    }
   ],
   "source": [
    "a=5\n",
    "a"
   ]
  },
  {
   "cell_type": "code",
   "execution_count": 6,
   "id": "3129b581-4db8-49a3-be1e-135ed6e6c7cf",
   "metadata": {},
   "outputs": [
    {
     "data": {
      "text/plain": [
       "7.5"
      ]
     },
     "execution_count": 6,
     "metadata": {},
     "output_type": "execute_result"
    }
   ],
   "source": [
    "abc=7.5\n",
    "abc\n",
    "\n"
   ]
  },
  {
   "cell_type": "code",
   "execution_count": 7,
   "id": "d5c48f57-6431-4e30-8f21-e35aa0e064e5",
   "metadata": {},
   "outputs": [
    {
     "data": {
      "text/plain": [
       "'lolu'"
      ]
     },
     "execution_count": 7,
     "metadata": {},
     "output_type": "execute_result"
    }
   ],
   "source": [
    "c=\"lolu\"\n",
    "c"
   ]
  },
  {
   "cell_type": "code",
   "execution_count": 8,
   "id": "ce1d61aa-5596-45a9-a837-5b9fb0a75fab",
   "metadata": {},
   "outputs": [
    {
     "data": {
      "text/plain": [
       "str"
      ]
     },
     "execution_count": 8,
     "metadata": {},
     "output_type": "execute_result"
    }
   ],
   "source": [
    "type(c)\n"
   ]
  },
  {
   "cell_type": "code",
   "execution_count": 6,
   "id": "21a7e77f-25a2-4219-8b1d-074d9fdc404f",
   "metadata": {},
   "outputs": [
    {
     "data": {
      "text/plain": [
       "1"
      ]
     },
     "execution_count": 6,
     "metadata": {},
     "output_type": "execute_result"
    }
   ],
   "source": [
    "True-False"
   ]
  },
  {
   "cell_type": "code",
   "execution_count": 7,
   "id": "48994cc4-9836-488a-bf0a-7b4f142c6e35",
   "metadata": {},
   "outputs": [
    {
     "data": {
      "text/plain": [
       "0"
      ]
     },
     "execution_count": 7,
     "metadata": {},
     "output_type": "execute_result"
    }
   ],
   "source": [
    "True*False"
   ]
  },
  {
   "cell_type": "code",
   "execution_count": 9,
   "id": "785ed32d-aff2-4fb7-a6f2-561e295dea2c",
   "metadata": {},
   "outputs": [],
   "source": [
    "f=None\n",
    "f\n"
   ]
  },
  {
   "cell_type": "code",
   "execution_count": 10,
   "id": "47bd3396-a766-43dc-87b4-fb4520e0a639",
   "metadata": {},
   "outputs": [
    {
     "data": {
      "text/plain": [
       "NoneType"
      ]
     },
     "execution_count": 10,
     "metadata": {},
     "output_type": "execute_result"
    }
   ],
   "source": [
    "type(f)"
   ]
  },
  {
   "cell_type": "code",
   "execution_count": 9,
   "id": "84b7db9f-bef8-4aee-b005-41c9a665a7a7",
   "metadata": {},
   "outputs": [
    {
     "name": "stdout",
     "output_type": "stream",
     "text": [
      "hello world\n"
     ]
    }
   ],
   "source": [
    "print(\"hello world\")\n"
   ]
  },
  {
   "cell_type": "code",
   "execution_count": 10,
   "id": "3d29e36d-d8b9-4e38-bf1d-6de117e2a533",
   "metadata": {},
   "outputs": [
    {
     "data": {
      "text/plain": [
       "str"
      ]
     },
     "execution_count": 10,
     "metadata": {},
     "output_type": "execute_result"
    }
   ],
   "source": [
    "a=\"5\"\n",
    "type(a)"
   ]
  },
  {
   "cell_type": "raw",
   "id": "66820534-9e41-4a1f-b03a-c116ba069a5a",
   "metadata": {},
   "source": [
    "x+iy>> complex number"
   ]
  },
  {
   "cell_type": "code",
   "execution_count": 11,
   "id": "2a48949e-afaa-4e2a-8759-384bc90c0abb",
   "metadata": {},
   "outputs": [],
   "source": [
    "com=5+6j\n"
   ]
  },
  {
   "cell_type": "code",
   "execution_count": 12,
   "id": "7baac8ed-d7ae-4923-ad74-46e576725f73",
   "metadata": {},
   "outputs": [
    {
     "data": {
      "text/plain": [
       "(5+6j)"
      ]
     },
     "execution_count": 12,
     "metadata": {},
     "output_type": "execute_result"
    }
   ],
   "source": [
    "com"
   ]
  },
  {
   "cell_type": "code",
   "execution_count": 13,
   "id": "e0c01e65-60f3-4abd-b42b-879be7e8ec59",
   "metadata": {},
   "outputs": [
    {
     "data": {
      "text/plain": [
       "complex"
      ]
     },
     "execution_count": 13,
     "metadata": {},
     "output_type": "execute_result"
    }
   ],
   "source": [
    "type(com)"
   ]
  },
  {
   "cell_type": "code",
   "execution_count": 14,
   "id": "2de08bd3-b986-4824-8cad-a72dadaa5c49",
   "metadata": {},
   "outputs": [
    {
     "data": {
      "text/plain": [
       "5.0"
      ]
     },
     "execution_count": 14,
     "metadata": {},
     "output_type": "execute_result"
    }
   ],
   "source": [
    "com.real"
   ]
  },
  {
   "cell_type": "code",
   "execution_count": 15,
   "id": "82555ead-3a47-4c4c-b849-e686f3f6ab35",
   "metadata": {},
   "outputs": [
    {
     "data": {
      "text/plain": [
       "6.0"
      ]
     },
     "execution_count": 15,
     "metadata": {},
     "output_type": "execute_result"
    }
   ],
   "source": [
    "com.imag"
   ]
  },
  {
   "cell_type": "code",
   "execution_count": null,
   "id": "b51d1dc9-001c-4974-9d2a-0589e22c0eed",
   "metadata": {},
   "outputs": [],
   "source": [
    "#Rules of defining variable>> a variable star with a letter(alplabet) or underscore character,it should not be keywpard"
   ]
  },
  {
   "cell_type": "code",
   "execution_count": null,
   "id": "2bc05f90-bb69-47cc-8b4b-c7643b1dc579",
   "metadata": {},
   "outputs": [],
   "source": [
    "#Invalid ways"
   ]
  },
  {
   "cell_type": "code",
   "execution_count": 16,
   "id": "b68dde93-f340-4434-ab69-9eedbc838bd1",
   "metadata": {},
   "outputs": [
    {
     "ename": "SyntaxError",
     "evalue": "cannot assign to literal here. Maybe you meant '==' instead of '='? (120813491.py, line 1)",
     "output_type": "error",
     "traceback": [
      "\u001b[0;36m  Cell \u001b[0;32mIn[16], line 1\u001b[0;36m\u001b[0m\n\u001b[0;31m    5=a\u001b[0m\n\u001b[0m    ^\u001b[0m\n\u001b[0;31mSyntaxError\u001b[0m\u001b[0;31m:\u001b[0m cannot assign to literal here. Maybe you meant '==' instead of '='?\n"
     ]
    }
   ],
   "source": [
    "5=a"
   ]
  },
  {
   "cell_type": "code",
   "execution_count": 17,
   "id": "745bed51-691a-4257-83a1-b32a76d5cb4e",
   "metadata": {},
   "outputs": [
    {
     "ename": "SyntaxError",
     "evalue": "cannot assign to literal here. Maybe you meant '==' instead of '='? (2426586918.py, line 1)",
     "output_type": "error",
     "traceback": [
      "\u001b[0;36m  Cell \u001b[0;32mIn[17], line 1\u001b[0;36m\u001b[0m\n\u001b[0;31m    2.3=b\u001b[0m\n\u001b[0m    ^\u001b[0m\n\u001b[0;31mSyntaxError\u001b[0m\u001b[0;31m:\u001b[0m cannot assign to literal here. Maybe you meant '==' instead of '='?\n"
     ]
    }
   ],
   "source": [
    "2.3=b"
   ]
  },
  {
   "cell_type": "code",
   "execution_count": 18,
   "id": "a5f20a89-0a54-40e5-8d77-852c397addf6",
   "metadata": {},
   "outputs": [],
   "source": [
    "_1=a"
   ]
  },
  {
   "cell_type": "code",
   "execution_count": 19,
   "id": "db6ebd13-565f-4068-b1f4-7ade427e6fbf",
   "metadata": {},
   "outputs": [
    {
     "data": {
      "text/plain": [
       "5"
      ]
     },
     "execution_count": 19,
     "metadata": {},
     "output_type": "execute_result"
    }
   ],
   "source": [
    "_1"
   ]
  },
  {
   "cell_type": "code",
   "execution_count": 20,
   "id": "9bb64d2e-6658-49b2-8c65-49122c29af7f",
   "metadata": {},
   "outputs": [
    {
     "ename": "SyntaxError",
     "evalue": "invalid syntax (1373483653.py, line 1)",
     "output_type": "error",
     "traceback": [
      "\u001b[0;36m  Cell \u001b[0;32mIn[20], line 1\u001b[0;36m\u001b[0m\n\u001b[0;31m    data analytis course=\"pw skills\"\u001b[0m\n\u001b[0m         ^\u001b[0m\n\u001b[0;31mSyntaxError\u001b[0m\u001b[0;31m:\u001b[0m invalid syntax\n"
     ]
    }
   ],
   "source": [
    "data analytis course=\"pw skills\""
   ]
  },
  {
   "cell_type": "code",
   "execution_count": 21,
   "id": "cfb25a8a-a76c-40df-9ba5-9b004fa7f309",
   "metadata": {},
   "outputs": [],
   "source": [
    "data_analytics_course=\"pw skills\""
   ]
  },
  {
   "cell_type": "code",
   "execution_count": 22,
   "id": "016b7b2e-3598-456c-83a0-97482723a967",
   "metadata": {},
   "outputs": [
    {
     "data": {
      "text/plain": [
       "'pw skills'"
      ]
     },
     "execution_count": 22,
     "metadata": {},
     "output_type": "execute_result"
    }
   ],
   "source": [
    "data_analytics_course"
   ]
  },
  {
   "cell_type": "code",
   "execution_count": 23,
   "id": "65860a58-a332-406b-ae57-0f356211dec3",
   "metadata": {},
   "outputs": [
    {
     "ename": "SyntaxError",
     "evalue": "invalid syntax. Maybe you meant '==' or ':=' instead of '='? (506328939.py, line 1)",
     "output_type": "error",
     "traceback": [
      "\u001b[0;36m  Cell \u001b[0;32mIn[23], line 1\u001b[0;36m\u001b[0m\n\u001b[0;31m    @abc =3\u001b[0m\n\u001b[0m     ^\u001b[0m\n\u001b[0;31mSyntaxError\u001b[0m\u001b[0;31m:\u001b[0m invalid syntax. Maybe you meant '==' or ':=' instead of '='?\n"
     ]
    }
   ],
   "source": [
    "@abc =3"
   ]
  },
  {
   "cell_type": "raw",
   "id": "ff769563-7836-4428-bbc9-415c9e1bf6be",
   "metadata": {},
   "source": [
    "Comments\n"
   ]
  },
  {
   "cell_type": "code",
   "execution_count": null,
   "id": "a1f2df4c-3bb3-4c5d-95d3-ea37c2f26c05",
   "metadata": {},
   "outputs": [],
   "source": [
    "#this is how wewrite a comment"
   ]
  },
  {
   "cell_type": "code",
   "execution_count": 25,
   "id": "ccab4fea-0644-4c20-b2e9-fd099433f5f7",
   "metadata": {},
   "outputs": [
    {
     "data": {
      "text/plain": [
       "5"
      ]
     },
     "execution_count": 25,
     "metadata": {},
     "output_type": "execute_result"
    }
   ],
   "source": [
    "#Multiline Comments\n",
    "'''\n",
    "This is a multi line comments\n",
    "i am teaching ds\n",
    "all the students are enjoying\n",
    "'''\n",
    "a=5\n",
    "a"
   ]
  },
  {
   "cell_type": "code",
   "execution_count": 28,
   "id": "b39d4036-afbe-40bf-8791-0d51bd86c9ee",
   "metadata": {},
   "outputs": [
    {
     "data": {
      "text/plain": [
       "3"
      ]
     },
     "execution_count": 28,
     "metadata": {},
     "output_type": "execute_result"
    }
   ],
   "source": [
    "\"\"\"\n",
    "This is a multi line comments\n",
    "i am teaching ds\n",
    "all the students are enjoying\n",
    "\"\"\"\n",
    "b=3\n",
    "b\n"
   ]
  },
  {
   "cell_type": "code",
   "execution_count": null,
   "id": "bbad60d4-28aa-4432-aa30-eb429bdce7b0",
   "metadata": {},
   "outputs": [],
   "source": [
    "#Keywords>> are predefined wordsthat hold a special meaning and have a specific purpose in python"
   ]
  },
  {
   "cell_type": "code",
   "execution_count": 29,
   "id": "a24e64e9-fae1-494b-9a01-e00e7af0fb53",
   "metadata": {},
   "outputs": [
    {
     "name": "stdout",
     "output_type": "stream",
     "text": [
      "\n",
      "Here is a list of the Python keywords.  Enter any keyword to get more help.\n",
      "\n",
      "False               class               from                or\n",
      "None                continue            global              pass\n",
      "True                def                 if                  raise\n",
      "and                 del                 import              return\n",
      "as                  elif                in                  try\n",
      "assert              else                is                  while\n",
      "async               except              lambda              with\n",
      "await               finally             nonlocal            yield\n",
      "break               for                 not                 \n",
      "\n"
     ]
    }
   ],
   "source": [
    "help(\"keywords\")"
   ]
  },
  {
   "cell_type": "code",
   "execution_count": 31,
   "id": "59c5dad6-fb98-472d-bcf9-396fdeac142a",
   "metadata": {},
   "outputs": [
    {
     "name": "stdout",
     "output_type": "stream",
     "text": [
      "greater\n"
     ]
    }
   ],
   "source": [
    "#indentation>> more readable\n",
    "if 3>2: \n",
    "    print(\"greater\")"
   ]
  },
  {
   "cell_type": "code",
   "execution_count": 32,
   "id": "c26d5735-7850-42c2-8387-da527e2dce70",
   "metadata": {},
   "outputs": [],
   "source": [
    "a=3 #statement>> fundamental block of code\n",
    "name=\"Ajay\"\n",
    "\n",
    "#statement can be of many types>>expression,assignment,condition statement,loop\n"
   ]
  },
  {
   "cell_type": "code",
   "execution_count": null,
   "id": "20741f78-ffdc-4c54-95db-4ce99474b65d",
   "metadata": {},
   "outputs": [],
   "source": [
    "#assignment statement\n",
    "a=5"
   ]
  },
  {
   "cell_type": "code",
   "execution_count": 33,
   "id": "d6deb163-27da-47a6-b77b-206fb1cb490c",
   "metadata": {},
   "outputs": [
    {
     "data": {
      "text/plain": [
       "9"
      ]
     },
     "execution_count": 33,
     "metadata": {},
     "output_type": "execute_result"
    }
   ],
   "source": [
    "a=5 #assignment\n",
    "b=4 #assignment\n",
    "a+b #expression statement"
   ]
  },
  {
   "cell_type": "code",
   "execution_count": 44,
   "id": "62a0d7c6-d437-4bed-80b3-b3f85ef42c1a",
   "metadata": {},
   "outputs": [
    {
     "name": "stdin",
     "output_type": "stream",
     "text": [
      "please enter your name: 2\n"
     ]
    }
   ],
   "source": [
    "#input/output>> if you want some user to give value of variable\n",
    "name=input(\"please enter your name:\")"
   ]
  },
  {
   "cell_type": "code",
   "execution_count": 45,
   "id": "81d5530e-0520-4ac2-b798-c1c26edb20ce",
   "metadata": {},
   "outputs": [
    {
     "data": {
      "text/plain": [
       "'2'"
      ]
     },
     "execution_count": 45,
     "metadata": {},
     "output_type": "execute_result"
    }
   ],
   "source": [
    "name"
   ]
  },
  {
   "cell_type": "code",
   "execution_count": 46,
   "id": "8ddbd670-1e0b-40d7-a397-15e12b87ac01",
   "metadata": {},
   "outputs": [
    {
     "data": {
      "text/plain": [
       "str"
      ]
     },
     "execution_count": 46,
     "metadata": {},
     "output_type": "execute_result"
    }
   ],
   "source": [
    "type(name)"
   ]
  },
  {
   "cell_type": "code",
   "execution_count": 50,
   "id": "fd1017f6-83a4-4fb1-8240-bab9fe468f96",
   "metadata": {},
   "outputs": [
    {
     "data": {
      "text/plain": [
       "2"
      ]
     },
     "execution_count": 50,
     "metadata": {},
     "output_type": "execute_result"
    }
   ],
   "source": [
    "#input actually take every value as a string\n",
    "#we can convert '2' as int\n",
    "name=int(name)\n",
    "name"
   ]
  },
  {
   "cell_type": "code",
   "execution_count": 51,
   "id": "e43242ed-dc96-4ae6-a546-1d4c9e203228",
   "metadata": {},
   "outputs": [
    {
     "data": {
      "text/plain": [
       "str"
      ]
     },
     "execution_count": 51,
     "metadata": {},
     "output_type": "execute_result"
    }
   ],
   "source": [
    "a=\"3.5\"\n",
    "type(a)"
   ]
  },
  {
   "cell_type": "code",
   "execution_count": 53,
   "id": "216b3922-22ec-42c4-8707-6ecf57b7eb5b",
   "metadata": {},
   "outputs": [
    {
     "data": {
      "text/plain": [
       "float"
      ]
     },
     "execution_count": 53,
     "metadata": {},
     "output_type": "execute_result"
    }
   ],
   "source": [
    "type(float(a))"
   ]
  },
  {
   "cell_type": "code",
   "execution_count": 54,
   "id": "72c0d1fe-7d18-4b50-ab95-22ffce72d02e",
   "metadata": {},
   "outputs": [],
   "source": [
    "#python is a case sensitive language\n",
    "a=5\n",
    "A=15"
   ]
  },
  {
   "cell_type": "code",
   "execution_count": 55,
   "id": "217520d1-54bd-4e88-84da-b529875692a2",
   "metadata": {},
   "outputs": [
    {
     "data": {
      "text/plain": [
       "5"
      ]
     },
     "execution_count": 55,
     "metadata": {},
     "output_type": "execute_result"
    }
   ],
   "source": [
    "a"
   ]
  },
  {
   "cell_type": "code",
   "execution_count": 56,
   "id": "f830715c-d335-435a-b01a-02cc1df3e670",
   "metadata": {},
   "outputs": [
    {
     "data": {
      "text/plain": [
       "15"
      ]
     },
     "execution_count": 56,
     "metadata": {},
     "output_type": "execute_result"
    }
   ],
   "source": [
    "A"
   ]
  },
  {
   "cell_type": "code",
   "execution_count": 1,
   "id": "10ca71fa-dbe6-4ee2-a12c-7a54fd4eaa7b",
   "metadata": {},
   "outputs": [
    {
     "name": "stdout",
     "output_type": "stream",
     "text": [
      "hello\n"
     ]
    }
   ],
   "source": [
    "#variables should be keywords\n",
    "print(\"hello\")"
   ]
  },
  {
   "cell_type": "code",
   "execution_count": 58,
   "id": "86bd4a9d-00c5-4a36-b0a9-9668c18d8ad1",
   "metadata": {},
   "outputs": [],
   "source": [
    "print =\"harshit\""
   ]
  },
  {
   "cell_type": "code",
   "execution_count": 60,
   "id": "6d069c33-632e-4928-b80e-1903d2942da7",
   "metadata": {},
   "outputs": [
    {
     "data": {
      "text/plain": [
       "'harshit'"
      ]
     },
     "execution_count": 60,
     "metadata": {},
     "output_type": "execute_result"
    }
   ],
   "source": [
    "print"
   ]
  },
  {
   "cell_type": "code",
   "execution_count": 2,
   "id": "64b8ad9f-50d2-45f0-85a5-d96aeaa14c79",
   "metadata": {},
   "outputs": [
    {
     "name": "stdout",
     "output_type": "stream",
     "text": [
      "world\n"
     ]
    }
   ],
   "source": [
    "print(\"world\")"
   ]
  },
  {
   "cell_type": "code",
   "execution_count": null,
   "id": "c3308a48-5672-48eb-8174-162001e1b36d",
   "metadata": {},
   "outputs": [],
   "source": [
    "# Mutability/Immutability"
   ]
  },
  {
   "cell_type": "code",
   "execution_count": 1,
   "id": "e050a707-a0d3-412f-b9ff-ea1f4e1c6cfd",
   "metadata": {},
   "outputs": [],
   "source": [
    "a=6"
   ]
  },
  {
   "cell_type": "code",
   "execution_count": 2,
   "id": "83f43d9f-2756-44a8-8971-01b7beb6ed8f",
   "metadata": {},
   "outputs": [
    {
     "data": {
      "text/plain": [
       "6"
      ]
     },
     "execution_count": 2,
     "metadata": {},
     "output_type": "execute_result"
    }
   ],
   "source": [
    "a #in the memory, a memory block is created with reference name a and value 6"
   ]
  },
  {
   "cell_type": "code",
   "execution_count": 3,
   "id": "c6c23e96-f6f3-4e2e-8624-925ee4fba9d2",
   "metadata": {},
   "outputs": [],
   "source": [
    "b=\"Ajay\""
   ]
  },
  {
   "cell_type": "code",
   "execution_count": 4,
   "id": "b1e6ac44-c883-4cee-b77b-97210f08940c",
   "metadata": {},
   "outputs": [
    {
     "data": {
      "text/plain": [
       "'Ajay'"
      ]
     },
     "execution_count": 4,
     "metadata": {},
     "output_type": "execute_result"
    }
   ],
   "source": [
    "b"
   ]
  },
  {
   "cell_type": "code",
   "execution_count": 5,
   "id": "61ef22ab-4932-418f-896c-8cad32aab142",
   "metadata": {},
   "outputs": [
    {
     "data": {
      "text/plain": [
       "'A'"
      ]
     },
     "execution_count": 5,
     "metadata": {},
     "output_type": "execute_result"
    }
   ],
   "source": [
    "b[0]"
   ]
  },
  {
   "cell_type": "code",
   "execution_count": 6,
   "id": "d274f994-4a9f-4f56-9c11-55e967f8dff0",
   "metadata": {},
   "outputs": [
    {
     "data": {
      "text/plain": [
       "'a'"
      ]
     },
     "execution_count": 6,
     "metadata": {},
     "output_type": "execute_result"
    }
   ],
   "source": [
    "b[2]"
   ]
  },
  {
   "cell_type": "code",
   "execution_count": 7,
   "id": "b66bd5bb-bfc1-4d8c-9d4f-10dcc884ea40",
   "metadata": {},
   "outputs": [
    {
     "data": {
      "text/plain": [
       "'a'"
      ]
     },
     "execution_count": 7,
     "metadata": {},
     "output_type": "execute_result"
    }
   ],
   "source": [
    "b[-2]"
   ]
  },
  {
   "cell_type": "code",
   "execution_count": 8,
   "id": "f8a59bf8-756e-4b92-8943-6c908d9a9afd",
   "metadata": {},
   "outputs": [
    {
     "data": {
      "text/plain": [
       "'j'"
      ]
     },
     "execution_count": 8,
     "metadata": {},
     "output_type": "execute_result"
    }
   ],
   "source": [
    "b[-3]"
   ]
  },
  {
   "cell_type": "code",
   "execution_count": 9,
   "id": "2a66b00e-dc30-4707-83d4-d336b231a2eb",
   "metadata": {},
   "outputs": [
    {
     "data": {
      "text/plain": [
       "[1, 2, 3, 4.3, (3+5j), True, 'Ajay']"
      ]
     },
     "execution_count": 9,
     "metadata": {},
     "output_type": "execute_result"
    }
   ],
   "source": [
    "#another type of data container\n",
    "list_cont=[1,2,3,4.3,3+5j,True,\"Ajay\"]\n",
    "list_cont"
   ]
  },
  {
   "cell_type": "code",
   "execution_count": 10,
   "id": "51e8b694-4ac5-4a41-b389-f8c2f8800bed",
   "metadata": {},
   "outputs": [
    {
     "data": {
      "text/plain": [
       "1"
      ]
     },
     "execution_count": 10,
     "metadata": {},
     "output_type": "execute_result"
    }
   ],
   "source": [
    "list_cont[0]"
   ]
  },
  {
   "cell_type": "code",
   "execution_count": 11,
   "id": "8ba05822-bf9f-4fbf-acc8-eed42a039b36",
   "metadata": {},
   "outputs": [
    {
     "data": {
      "text/plain": [
       "'Ajay'"
      ]
     },
     "execution_count": 11,
     "metadata": {},
     "output_type": "execute_result"
    }
   ],
   "source": [
    "list_cont[6]"
   ]
  },
  {
   "cell_type": "code",
   "execution_count": 12,
   "id": "1334cd2a-82e2-429f-87e8-9d43d4f454ec",
   "metadata": {},
   "outputs": [
    {
     "data": {
      "text/plain": [
       "list"
      ]
     },
     "execution_count": 12,
     "metadata": {},
     "output_type": "execute_result"
    }
   ],
   "source": [
    "type(list_cont)"
   ]
  },
  {
   "cell_type": "code",
   "execution_count": 13,
   "id": "4741a21d-dc90-455f-8e17-ff218b70e7ac",
   "metadata": {},
   "outputs": [
    {
     "data": {
      "text/plain": [
       "'Ajay'"
      ]
     },
     "execution_count": 13,
     "metadata": {},
     "output_type": "execute_result"
    }
   ],
   "source": [
    "list_cont[-1]"
   ]
  },
  {
   "cell_type": "code",
   "execution_count": 15,
   "id": "bdd28c5f-e20a-4eb5-96ef-ce0f8db214d9",
   "metadata": {},
   "outputs": [],
   "source": [
    "#mutability\n",
    "#objects/container whose state or value can be changed after they are created are called as mutable objects or container,also called as item assignment\n",
    "#list is type of a mutable object that support item assignment\n",
    "list_cont[6] =\"Bijay\""
   ]
  },
  {
   "cell_type": "code",
   "execution_count": 16,
   "id": "16a54cb0-1866-41de-82ee-05f98829b058",
   "metadata": {},
   "outputs": [
    {
     "data": {
      "text/plain": [
       "[1, 2, 3, 4.3, (3+5j), True, 'Bijay']"
      ]
     },
     "execution_count": 16,
     "metadata": {},
     "output_type": "execute_result"
    }
   ],
   "source": [
    "list_cont"
   ]
  },
  {
   "cell_type": "code",
   "execution_count": 17,
   "id": "ab6a7bc2-0845-4c59-ba3a-6ebc731e806c",
   "metadata": {},
   "outputs": [],
   "source": [
    "list_cont[0] =100"
   ]
  },
  {
   "cell_type": "code",
   "execution_count": 18,
   "id": "34aefe24-66b3-49a9-8bea-b3b2fd639368",
   "metadata": {},
   "outputs": [
    {
     "data": {
      "text/plain": [
       "[100, 2, 3, 4.3, (3+5j), True, 'Bijay']"
      ]
     },
     "execution_count": 18,
     "metadata": {},
     "output_type": "execute_result"
    }
   ],
   "source": [
    "list_cont"
   ]
  },
  {
   "cell_type": "code",
   "execution_count": 19,
   "id": "d05b7164-8fe1-49a8-bafb-36238a6a6616",
   "metadata": {},
   "outputs": [],
   "source": [
    "list_cont[1] =\"pwskills\""
   ]
  },
  {
   "cell_type": "code",
   "execution_count": 20,
   "id": "1e50da9f-844b-4c4e-bde4-bdc87fa5490d",
   "metadata": {},
   "outputs": [
    {
     "data": {
      "text/plain": [
       "[100, 'pwskills', 3, 4.3, (3+5j), True, 'Bijay']"
      ]
     },
     "execution_count": 20,
     "metadata": {},
     "output_type": "execute_result"
    }
   ],
   "source": [
    "list_cont"
   ]
  },
  {
   "cell_type": "code",
   "execution_count": 22,
   "id": "8b6b10f8-a75b-4978-916d-dd4c8cccf38e",
   "metadata": {},
   "outputs": [],
   "source": [
    "#objects/container whose state or value can not be changed after they are created are called as immutable objects or container\n",
    "#String is type of a immutable object that does not support item assignment"
   ]
  },
  {
   "cell_type": "code",
   "execution_count": 24,
   "id": "bb108d20-dc79-4e6a-8e7a-80bc9545e464",
   "metadata": {},
   "outputs": [
    {
     "data": {
      "text/plain": [
       "'pwskills'"
      ]
     },
     "execution_count": 24,
     "metadata": {},
     "output_type": "execute_result"
    }
   ],
   "source": [
    "b=\"pwskills\"\n",
    "b\n"
   ]
  },
  {
   "cell_type": "code",
   "execution_count": 27,
   "id": "53674c02-3576-480b-bfb4-bc7dafce5927",
   "metadata": {},
   "outputs": [
    {
     "ename": "TypeError",
     "evalue": "'str' object does not support item assignment",
     "output_type": "error",
     "traceback": [
      "\u001b[0;31m---------------------------------------------------------------------------\u001b[0m",
      "\u001b[0;31mTypeError\u001b[0m                                 Traceback (most recent call last)",
      "Cell \u001b[0;32mIn[27], line 1\u001b[0m\n\u001b[0;32m----> 1\u001b[0m \u001b[43mb\u001b[49m\u001b[43m[\u001b[49m\u001b[38;5;241;43m0\u001b[39;49m\u001b[43m]\u001b[49m\u001b[38;5;241m=\u001b[39m \u001b[38;5;124m\"\u001b[39m\u001b[38;5;124mi\u001b[39m\u001b[38;5;124m\"\u001b[39m\n",
      "\u001b[0;31mTypeError\u001b[0m: 'str' object does not support item assignment"
     ]
    }
   ],
   "source": [
    "b[0]= \"i\"#string does not support item assignment but list does"
   ]
  },
  {
   "cell_type": "code",
   "execution_count": 12,
   "id": "dd73fbb2-4339-4907-8d51-1228c02cf0fe",
   "metadata": {},
   "outputs": [
    {
     "data": {
      "text/plain": [
       "6"
      ]
     },
     "execution_count": 12,
     "metadata": {},
     "output_type": "execute_result"
    }
   ],
   "source": [
    "#operators >> special keywords to perform operations>> manage and compute data\n",
    "2+4"
   ]
  },
  {
   "cell_type": "code",
   "execution_count": 14,
   "id": "c10095ef-60ac-45a4-95d2-d52d2fe87967",
   "metadata": {},
   "outputs": [],
   "source": [
    "a=5\n",
    "b=6"
   ]
  },
  {
   "cell_type": "code",
   "execution_count": null,
   "id": "1676a07c-5369-4a0b-82ea-bf8caa7a298a",
   "metadata": {},
   "outputs": [],
   "source": [
    "#not operator "
   ]
  },
  {
   "cell_type": "code",
   "execution_count": 2,
   "id": "a9a20a9c-ac9e-4ad4-b108-1a0eefb0327c",
   "metadata": {},
   "outputs": [
    {
     "data": {
      "text/plain": [
       "False"
      ]
     },
     "execution_count": 2,
     "metadata": {},
     "output_type": "execute_result"
    }
   ],
   "source": [
    "not True\n"
   ]
  },
  {
   "cell_type": "code",
   "execution_count": 3,
   "id": "8837af98-b1d1-48a1-8960-85873d7db864",
   "metadata": {},
   "outputs": [
    {
     "data": {
      "text/plain": [
       "True"
      ]
     },
     "execution_count": 3,
     "metadata": {},
     "output_type": "execute_result"
    }
   ],
   "source": [
    "not False"
   ]
  },
  {
   "cell_type": "code",
   "execution_count": null,
   "id": "e3de7d33-7806-4c85-992d-8eaa8525d5b4",
   "metadata": {},
   "outputs": [],
   "source": [
    "#Assignment operator"
   ]
  },
  {
   "cell_type": "code",
   "execution_count": null,
   "id": "3b421d99-bf9f-4e63-a9f8-0147c95fdac7",
   "metadata": {},
   "outputs": [],
   "source": [
    "a=3"
   ]
  },
  {
   "cell_type": "code",
   "execution_count": 5,
   "id": "e566adf9-2370-4ff0-826d-2b0560fb6ac8",
   "metadata": {},
   "outputs": [
    {
     "data": {
      "text/plain": [
       "8"
      ]
     },
     "execution_count": 5,
     "metadata": {},
     "output_type": "execute_result"
    }
   ],
   "source": [
    "a=3\n",
    "a+5"
   ]
  },
  {
   "cell_type": "code",
   "execution_count": 8,
   "id": "0d0be259-d712-446c-a3e0-286f0c50edbc",
   "metadata": {},
   "outputs": [
    {
     "data": {
      "text/plain": [
       "8"
      ]
     },
     "execution_count": 8,
     "metadata": {},
     "output_type": "execute_result"
    }
   ],
   "source": [
    "a=3\n",
    "a=a+5\n",
    "a"
   ]
  },
  {
   "cell_type": "code",
   "execution_count": 9,
   "id": "0e7e7925-196f-46b7-86ef-0f4f706d4c52",
   "metadata": {},
   "outputs": [
    {
     "data": {
      "text/plain": [
       "8"
      ]
     },
     "execution_count": 9,
     "metadata": {},
     "output_type": "execute_result"
    }
   ],
   "source": [
    "a=3\n",
    "a+=5\n",
    "a"
   ]
  },
  {
   "cell_type": "code",
   "execution_count": 10,
   "id": "4d4a5c60-1aef-4835-a291-41fbcaf1758e",
   "metadata": {},
   "outputs": [
    {
     "data": {
      "text/plain": [
       "6"
      ]
     },
     "execution_count": 10,
     "metadata": {},
     "output_type": "execute_result"
    }
   ],
   "source": [
    "a-=2\n",
    "a"
   ]
  },
  {
   "cell_type": "code",
   "execution_count": 11,
   "id": "24a46eba-1488-442c-a16a-6a42a0222d37",
   "metadata": {},
   "outputs": [
    {
     "data": {
      "text/plain": [
       "18"
      ]
     },
     "execution_count": 11,
     "metadata": {},
     "output_type": "execute_result"
    }
   ],
   "source": [
    "a*=3\n",
    "a"
   ]
  },
  {
   "cell_type": "code",
   "execution_count": 12,
   "id": "db762ef5-511c-4340-8dcf-08d225881e0f",
   "metadata": {},
   "outputs": [
    {
     "data": {
      "text/plain": [
       "6.0"
      ]
     },
     "execution_count": 12,
     "metadata": {},
     "output_type": "execute_result"
    }
   ],
   "source": [
    "a/=3\n",
    "a"
   ]
  },
  {
   "cell_type": "code",
   "execution_count": 1,
   "id": "2259589f-0261-4b33-81f9-251b5182f70d",
   "metadata": {},
   "outputs": [
    {
     "data": {
      "text/plain": [
       "1"
      ]
     },
     "execution_count": 1,
     "metadata": {},
     "output_type": "execute_result"
    }
   ],
   "source": [
    "#modulus operator\n",
    "21%4"
   ]
  },
  {
   "cell_type": "code",
   "execution_count": 2,
   "id": "b9311c31-733e-4cac-aedf-9dc47f8bd612",
   "metadata": {},
   "outputs": [
    {
     "data": {
      "text/plain": [
       "32"
      ]
     },
     "execution_count": 2,
     "metadata": {},
     "output_type": "execute_result"
    }
   ],
   "source": [
    "2**5# 2 to power 5"
   ]
  },
  {
   "cell_type": "code",
   "execution_count": 3,
   "id": "f755e229-6ab2-40b0-a17e-c13ef4815173",
   "metadata": {},
   "outputs": [
    {
     "data": {
      "text/plain": [
       "1.3333333333333333"
      ]
     },
     "execution_count": 3,
     "metadata": {},
     "output_type": "execute_result"
    }
   ],
   "source": [
    "4/3"
   ]
  },
  {
   "cell_type": "code",
   "execution_count": 4,
   "id": "ae50f80b-e411-4ef5-aee6-7862790feec8",
   "metadata": {},
   "outputs": [
    {
     "data": {
      "text/plain": [
       "1"
      ]
     },
     "execution_count": 4,
     "metadata": {},
     "output_type": "execute_result"
    }
   ],
   "source": [
    "4//3# floor operator"
   ]
  },
  {
   "cell_type": "code",
   "execution_count": 5,
   "id": "be0a6113-c1c4-4425-bd26-3e335b6bee14",
   "metadata": {},
   "outputs": [
    {
     "data": {
      "text/plain": [
       "True"
      ]
     },
     "execution_count": 5,
     "metadata": {},
     "output_type": "execute_result"
    }
   ],
   "source": [
    "#ccomparision operator>> compare two values>> returns a boolean value\n",
    "2==2"
   ]
  },
  {
   "cell_type": "code",
   "execution_count": 6,
   "id": "1a8e3193-a2ed-45b4-ace3-d6d754300832",
   "metadata": {},
   "outputs": [
    {
     "data": {
      "text/plain": [
       "False"
      ]
     },
     "execution_count": 6,
     "metadata": {},
     "output_type": "execute_result"
    }
   ],
   "source": [
    "2!=2# not equal to"
   ]
  },
  {
   "cell_type": "code",
   "execution_count": 7,
   "id": "02218a8e-45cc-4fc4-b500-e55074fd29e1",
   "metadata": {},
   "outputs": [
    {
     "data": {
      "text/plain": [
       "True"
      ]
     },
     "execution_count": 7,
     "metadata": {},
     "output_type": "execute_result"
    }
   ],
   "source": [
    "10>2"
   ]
  },
  {
   "cell_type": "code",
   "execution_count": 8,
   "id": "2e326bc1-5582-4df9-b05c-23e461e93d52",
   "metadata": {},
   "outputs": [
    {
     "data": {
      "text/plain": [
       "True"
      ]
     },
     "execution_count": 8,
     "metadata": {},
     "output_type": "execute_result"
    }
   ],
   "source": [
    "10>=2"
   ]
  },
  {
   "cell_type": "code",
   "execution_count": 9,
   "id": "fc42f01b-23c0-488d-98e0-d752c97f83fd",
   "metadata": {},
   "outputs": [
    {
     "data": {
      "text/plain": [
       "False"
      ]
     },
     "execution_count": 9,
     "metadata": {},
     "output_type": "execute_result"
    }
   ],
   "source": [
    "10<=2"
   ]
  },
  {
   "cell_type": "code",
   "execution_count": 10,
   "id": "e30c5357-550c-47f8-a82f-a7c4306c2545",
   "metadata": {},
   "outputs": [
    {
     "data": {
      "text/plain": [
       "True"
      ]
     },
     "execution_count": 10,
     "metadata": {},
     "output_type": "execute_result"
    }
   ],
   "source": [
    "10<=10"
   ]
  },
  {
   "cell_type": "code",
   "execution_count": 11,
   "id": "e70d3140-00c1-4dd4-90b6-4640377b9114",
   "metadata": {},
   "outputs": [
    {
     "data": {
      "text/plain": [
       "True"
      ]
     },
     "execution_count": 11,
     "metadata": {},
     "output_type": "execute_result"
    }
   ],
   "source": [
    "10<=12"
   ]
  },
  {
   "cell_type": "code",
   "execution_count": 12,
   "id": "9aa8d9cd-b003-4c93-9692-562b105cdf5b",
   "metadata": {},
   "outputs": [
    {
     "data": {
      "text/plain": [
       "True"
      ]
     },
     "execution_count": 12,
     "metadata": {},
     "output_type": "execute_result"
    }
   ],
   "source": [
    "#logical operator\n",
    "#and\n",
    "#or\n",
    "True and True"
   ]
  },
  {
   "cell_type": "code",
   "execution_count": 13,
   "id": "30f78a25-4890-4bd3-bfac-375d2595a9a4",
   "metadata": {},
   "outputs": [
    {
     "data": {
      "text/plain": [
       "False"
      ]
     },
     "execution_count": 13,
     "metadata": {},
     "output_type": "execute_result"
    }
   ],
   "source": [
    "True and False"
   ]
  },
  {
   "cell_type": "code",
   "execution_count": 14,
   "id": "38d56579-fce8-4b25-ae11-45b8ef14220b",
   "metadata": {},
   "outputs": [
    {
     "data": {
      "text/plain": [
       "False"
      ]
     },
     "execution_count": 14,
     "metadata": {},
     "output_type": "execute_result"
    }
   ],
   "source": [
    "False and True"
   ]
  },
  {
   "cell_type": "code",
   "execution_count": 15,
   "id": "f6a4cbc0-6b62-4a96-8018-bcd3e73e6dcc",
   "metadata": {},
   "outputs": [
    {
     "data": {
      "text/plain": [
       "False"
      ]
     },
     "execution_count": 15,
     "metadata": {},
     "output_type": "execute_result"
    }
   ],
   "source": [
    "False and False"
   ]
  },
  {
   "cell_type": "code",
   "execution_count": 16,
   "id": "e8090c59-41d9-44e7-9942-be95d02332ff",
   "metadata": {},
   "outputs": [
    {
     "data": {
      "text/plain": [
       "True"
      ]
     },
     "execution_count": 16,
     "metadata": {},
     "output_type": "execute_result"
    }
   ],
   "source": [
    "#or operator\n",
    "True or True"
   ]
  },
  {
   "cell_type": "code",
   "execution_count": 17,
   "id": "e31e25c1-c1d0-4f37-8fc2-a618134f226b",
   "metadata": {},
   "outputs": [
    {
     "data": {
      "text/plain": [
       "True"
      ]
     },
     "execution_count": 17,
     "metadata": {},
     "output_type": "execute_result"
    }
   ],
   "source": [
    "True or False"
   ]
  },
  {
   "cell_type": "code",
   "execution_count": 18,
   "id": "6139fc31-d8a6-41bc-9842-43cf837401da",
   "metadata": {},
   "outputs": [
    {
     "data": {
      "text/plain": [
       "True"
      ]
     },
     "execution_count": 18,
     "metadata": {},
     "output_type": "execute_result"
    }
   ],
   "source": [
    "False or True"
   ]
  },
  {
   "cell_type": "code",
   "execution_count": 19,
   "id": "e1a7a4a9-0a20-490c-9bdc-0667ff17320d",
   "metadata": {},
   "outputs": [
    {
     "data": {
      "text/plain": [
       "False"
      ]
     },
     "execution_count": 19,
     "metadata": {},
     "output_type": "execute_result"
    }
   ],
   "source": [
    "False or False"
   ]
  },
  {
   "cell_type": "code",
   "execution_count": 13,
   "id": "33a2dfd7-9650-48fa-b115-3e667e88837b",
   "metadata": {},
   "outputs": [
    {
     "data": {
      "text/plain": [
       "True"
      ]
     },
     "execution_count": 13,
     "metadata": {},
     "output_type": "execute_result"
    }
   ],
   "source": [
    "#membership operator\n",
    "\n",
    "a=\"pwskills\"\n",
    "\"p\" in a"
   ]
  },
  {
   "cell_type": "code",
   "execution_count": 14,
   "id": "c8cf362d-2bf6-4d1d-a8a0-1911654c1aa3",
   "metadata": {},
   "outputs": [
    {
     "data": {
      "text/plain": [
       "True"
      ]
     },
     "execution_count": 14,
     "metadata": {},
     "output_type": "execute_result"
    }
   ],
   "source": [
    "\"pw\"in a"
   ]
  },
  {
   "cell_type": "code",
   "execution_count": 15,
   "id": "464dcfab-2e7a-4571-a79b-c69deec3c2a3",
   "metadata": {},
   "outputs": [
    {
     "data": {
      "text/plain": [
       "True"
      ]
     },
     "execution_count": 15,
     "metadata": {},
     "output_type": "execute_result"
    }
   ],
   "source": [
    "\"il\" in a"
   ]
  },
  {
   "cell_type": "code",
   "execution_count": 16,
   "id": "ba5d502e-181c-4b48-9fa9-c02cfcdeaa24",
   "metadata": {},
   "outputs": [
    {
     "data": {
      "text/plain": [
       "False"
      ]
     },
     "execution_count": 16,
     "metadata": {},
     "output_type": "execute_result"
    }
   ],
   "source": [
    "\"aj\" in a"
   ]
  },
  {
   "cell_type": "code",
   "execution_count": 17,
   "id": "4f623362-3572-4d30-8ef5-a92bda43bf79",
   "metadata": {},
   "outputs": [
    {
     "data": {
      "text/plain": [
       "True"
      ]
     },
     "execution_count": 17,
     "metadata": {},
     "output_type": "execute_result"
    }
   ],
   "source": [
    "\"vaibhav\" in [\"vaibhav\",\"harshit\",\"pranay\"]"
   ]
  },
  {
   "cell_type": "code",
   "execution_count": 19,
   "id": "8bffb783-2b84-405d-aac9-e5872040c74c",
   "metadata": {},
   "outputs": [
    {
     "data": {
      "text/plain": [
       "False"
      ]
     },
     "execution_count": 19,
     "metadata": {},
     "output_type": "execute_result"
    }
   ],
   "source": [
    "'Am'in 'I am Ajay'"
   ]
  },
  {
   "cell_type": "code",
   "execution_count": 22,
   "id": "1f3c06df-15a1-481d-b21b-a0d1e25cf043",
   "metadata": {},
   "outputs": [
    {
     "data": {
      "text/plain": [
       "False"
      ]
     },
     "execution_count": 22,
     "metadata": {},
     "output_type": "execute_result"
    }
   ],
   "source": [
    "\"am\" not in \"I am Ajay\""
   ]
  },
  {
   "cell_type": "code",
   "execution_count": 23,
   "id": "6b65223d-0b2c-4630-aef7-f0c74da97d33",
   "metadata": {},
   "outputs": [
    {
     "data": {
      "text/plain": [
       "False"
      ]
     },
     "execution_count": 23,
     "metadata": {},
     "output_type": "execute_result"
    }
   ],
   "source": [
    "#identity operator>>compare memory location of two object\n",
    "a=3\n",
    "b=5\n",
    "a is b\n",
    "\n"
   ]
  },
  {
   "cell_type": "code",
   "execution_count": 24,
   "id": "d143d175-cd04-49b2-9679-3f37e4998604",
   "metadata": {},
   "outputs": [
    {
     "data": {
      "text/plain": [
       "True"
      ]
     },
     "execution_count": 24,
     "metadata": {},
     "output_type": "execute_result"
    }
   ],
   "source": [
    "a is not b"
   ]
  },
  {
   "cell_type": "code",
   "execution_count": 27,
   "id": "71745e65-876a-4095-80a0-b7100ed8ec92",
   "metadata": {},
   "outputs": [],
   "source": [
    "a=3\n",
    "b=5\n",
    "a=b\n"
   ]
  },
  {
   "cell_type": "code",
   "execution_count": 28,
   "id": "613bb98b-9f7e-420d-8f62-bda641f18b33",
   "metadata": {},
   "outputs": [
    {
     "data": {
      "text/plain": [
       "5"
      ]
     },
     "execution_count": 28,
     "metadata": {},
     "output_type": "execute_result"
    }
   ],
   "source": [
    "a"
   ]
  },
  {
   "cell_type": "code",
   "execution_count": 29,
   "id": "8a1cad0c-e55b-4cec-9b05-581b6dbe0656",
   "metadata": {},
   "outputs": [
    {
     "data": {
      "text/plain": [
       "5"
      ]
     },
     "execution_count": 29,
     "metadata": {},
     "output_type": "execute_result"
    }
   ],
   "source": [
    "b"
   ]
  },
  {
   "cell_type": "code",
   "execution_count": 30,
   "id": "9dcba026-1f0e-4a37-aa57-3eadbf3a8e4f",
   "metadata": {},
   "outputs": [
    {
     "data": {
      "text/plain": [
       "True"
      ]
     },
     "execution_count": 30,
     "metadata": {},
     "output_type": "execute_result"
    }
   ],
   "source": [
    "a is b"
   ]
  },
  {
   "cell_type": "code",
   "execution_count": 31,
   "id": "4d77aac7-3da2-4a11-a7d6-8a849aa170d0",
   "metadata": {},
   "outputs": [
    {
     "data": {
      "text/plain": [
       "True"
      ]
     },
     "execution_count": 31,
     "metadata": {},
     "output_type": "execute_result"
    }
   ],
   "source": [
    "a=\"pwskills\"\n",
    "b=\"pwskills\"\n",
    "a is b"
   ]
  },
  {
   "cell_type": "code",
   "execution_count": 21,
   "id": "d37c1aed-9276-4db4-abe6-0631cdcb04f6",
   "metadata": {},
   "outputs": [
    {
     "data": {
      "text/plain": [
       "True"
      ]
     },
     "execution_count": 21,
     "metadata": {},
     "output_type": "execute_result"
    }
   ],
   "source": [
    "a=\"pwskills\"\n",
    "b=\"data\"\n",
    "b=a\n",
    "a is b"
   ]
  },
  {
   "cell_type": "code",
   "execution_count": 34,
   "id": "ca668f81-8459-47bb-af84-dcf966a43c2e",
   "metadata": {},
   "outputs": [
    {
     "data": {
      "text/plain": [
       "10"
      ]
     },
     "execution_count": 34,
     "metadata": {},
     "output_type": "execute_result"
    }
   ],
   "source": [
    "#bitwise operator>>operations done at bit levels,manipulating individual bits\n",
    "\n",
    "10 & 10\n"
   ]
  },
  {
   "cell_type": "code",
   "execution_count": 35,
   "id": "105956a1-5d8c-4e6a-80f4-55d4246d85e9",
   "metadata": {},
   "outputs": [
    {
     "data": {
      "text/plain": [
       "'0b1010'"
      ]
     },
     "execution_count": 35,
     "metadata": {},
     "output_type": "execute_result"
    }
   ],
   "source": [
    "bin(10)"
   ]
  },
  {
   "cell_type": "code",
   "execution_count": 36,
   "id": "ec01b2f3-5a02-46f9-bc80-a6d5b9b46746",
   "metadata": {},
   "outputs": [
    {
     "data": {
      "text/plain": [
       "2"
      ]
     },
     "execution_count": 36,
     "metadata": {},
     "output_type": "execute_result"
    }
   ],
   "source": [
    "18 & 3"
   ]
  },
  {
   "cell_type": "code",
   "execution_count": 37,
   "id": "8b621c61-fdeb-4845-bdb4-8a58de56bc75",
   "metadata": {},
   "outputs": [
    {
     "data": {
      "text/plain": [
       "'0b10010'"
      ]
     },
     "execution_count": 37,
     "metadata": {},
     "output_type": "execute_result"
    }
   ],
   "source": [
    "bin(18)\n"
   ]
  },
  {
   "cell_type": "code",
   "execution_count": 38,
   "id": "f519a983-c9b6-42bc-accb-658bf548c169",
   "metadata": {},
   "outputs": [
    {
     "data": {
      "text/plain": [
       "'0b11'"
      ]
     },
     "execution_count": 38,
     "metadata": {},
     "output_type": "execute_result"
    }
   ],
   "source": [
    "bin(3)"
   ]
  },
  {
   "cell_type": "code",
   "execution_count": 39,
   "id": "04b1eb6e-1edc-4f46-a1f9-0e5079372e8c",
   "metadata": {},
   "outputs": [
    {
     "data": {
      "text/plain": [
       "'0b10'"
      ]
     },
     "execution_count": 39,
     "metadata": {},
     "output_type": "execute_result"
    }
   ],
   "source": [
    "bin(2)"
   ]
  },
  {
   "cell_type": "code",
   "execution_count": 40,
   "id": "b27248ad-d376-4800-a78e-109877cfce5b",
   "metadata": {},
   "outputs": [
    {
     "data": {
      "text/plain": [
       "7"
      ]
     },
     "execution_count": 40,
     "metadata": {},
     "output_type": "execute_result"
    }
   ],
   "source": [
    "3 | 5#or operator"
   ]
  },
  {
   "cell_type": "code",
   "execution_count": 41,
   "id": "873b1350-1a06-418e-8a9a-442dcd99589e",
   "metadata": {},
   "outputs": [
    {
     "data": {
      "text/plain": [
       "'0b11'"
      ]
     },
     "execution_count": 41,
     "metadata": {},
     "output_type": "execute_result"
    }
   ],
   "source": [
    "bin(3)"
   ]
  },
  {
   "cell_type": "code",
   "execution_count": 42,
   "id": "e542a2ca-4e5d-4e6c-b748-16ef774d17c5",
   "metadata": {},
   "outputs": [
    {
     "data": {
      "text/plain": [
       "'0b101'"
      ]
     },
     "execution_count": 42,
     "metadata": {},
     "output_type": "execute_result"
    }
   ],
   "source": [
    "bin(5)"
   ]
  },
  {
   "cell_type": "code",
   "execution_count": 43,
   "id": "36456786-228f-400a-a501-439822b481f7",
   "metadata": {},
   "outputs": [
    {
     "data": {
      "text/plain": [
       "'0b111'"
      ]
     },
     "execution_count": 43,
     "metadata": {},
     "output_type": "execute_result"
    }
   ],
   "source": [
    "bin(7)"
   ]
  },
  {
   "cell_type": "code",
   "execution_count": 44,
   "id": "2a16f250-24c1-4f29-aa0d-991c6025486b",
   "metadata": {},
   "outputs": [
    {
     "data": {
      "text/plain": [
       "-4"
      ]
     },
     "execution_count": 44,
     "metadata": {},
     "output_type": "execute_result"
    }
   ],
   "source": [
    "#negation\n",
    "~3"
   ]
  },
  {
   "cell_type": "code",
   "execution_count": 45,
   "id": "617e3cd6-2236-4122-b10b-c0002f651697",
   "metadata": {},
   "outputs": [
    {
     "data": {
      "text/plain": [
       "-101"
      ]
     },
     "execution_count": 45,
     "metadata": {},
     "output_type": "execute_result"
    }
   ],
   "source": [
    "~100"
   ]
  },
  {
   "cell_type": "code",
   "execution_count": 25,
   "id": "de1379c3-cbac-40b2-a767-5f2a60ca6467",
   "metadata": {},
   "outputs": [
    {
     "data": {
      "text/plain": [
       "2"
      ]
     },
     "execution_count": 25,
     "metadata": {},
     "output_type": "execute_result"
    }
   ],
   "source": [
    "~-3"
   ]
  },
  {
   "cell_type": "code",
   "execution_count": 46,
   "id": "97ac2baa-f1a5-4922-ae95-49b8ac5ee115",
   "metadata": {},
   "outputs": [
    {
     "data": {
      "text/plain": [
       "6"
      ]
     },
     "execution_count": 46,
     "metadata": {},
     "output_type": "execute_result"
    }
   ],
   "source": [
    "#xor operator>>return 1 when exactly one operand is 1\n",
    "5 ^ 3"
   ]
  },
  {
   "cell_type": "code",
   "execution_count": 47,
   "id": "7a77fdbd-c975-4329-a26f-ed28635ba0cf",
   "metadata": {},
   "outputs": [
    {
     "data": {
      "text/plain": [
       "'0b101'"
      ]
     },
     "execution_count": 47,
     "metadata": {},
     "output_type": "execute_result"
    }
   ],
   "source": [
    "bin(5)"
   ]
  },
  {
   "cell_type": "code",
   "execution_count": 48,
   "id": "4616cb26-8029-4805-a613-123a8871f013",
   "metadata": {},
   "outputs": [
    {
     "data": {
      "text/plain": [
       "'0b11'"
      ]
     },
     "execution_count": 48,
     "metadata": {},
     "output_type": "execute_result"
    }
   ],
   "source": [
    "bin(3)"
   ]
  },
  {
   "cell_type": "code",
   "execution_count": 49,
   "id": "30989619-368b-4f67-8c04-cd34686f130e",
   "metadata": {},
   "outputs": [
    {
     "data": {
      "text/plain": [
       "'0b110'"
      ]
     },
     "execution_count": 49,
     "metadata": {},
     "output_type": "execute_result"
    }
   ],
   "source": [
    "bin(6)"
   ]
  },
  {
   "cell_type": "code",
   "execution_count": 26,
   "id": "20c36326-45d1-4013-8956-4f8fd8f6ed1a",
   "metadata": {},
   "outputs": [
    {
     "data": {
      "text/plain": [
       "4"
      ]
     },
     "execution_count": 26,
     "metadata": {},
     "output_type": "execute_result"
    }
   ],
   "source": [
    "2^6"
   ]
  },
  {
   "cell_type": "code",
   "execution_count": 27,
   "id": "3db1b096-2d38-42eb-9982-ca3952ff3822",
   "metadata": {},
   "outputs": [
    {
     "data": {
      "text/plain": [
       "'0b10'"
      ]
     },
     "execution_count": 27,
     "metadata": {},
     "output_type": "execute_result"
    }
   ],
   "source": [
    "bin(2)"
   ]
  },
  {
   "cell_type": "code",
   "execution_count": 28,
   "id": "f3c6a2c2-0264-4c98-a106-f2b01183fb70",
   "metadata": {},
   "outputs": [
    {
     "data": {
      "text/plain": [
       "'0b110'"
      ]
     },
     "execution_count": 28,
     "metadata": {},
     "output_type": "execute_result"
    }
   ],
   "source": [
    "bin(6)"
   ]
  },
  {
   "cell_type": "code",
   "execution_count": 29,
   "id": "fb38b566-cf0e-4311-811e-d886652ac08c",
   "metadata": {},
   "outputs": [
    {
     "data": {
      "text/plain": [
       "'0b100'"
      ]
     },
     "execution_count": 29,
     "metadata": {},
     "output_type": "execute_result"
    }
   ],
   "source": [
    "bin(4)"
   ]
  },
  {
   "cell_type": "code",
   "execution_count": 50,
   "id": "4f8fdbb9-f261-4588-83a9-2052ca324788",
   "metadata": {},
   "outputs": [],
   "source": [
    "#shift operator>>left shift and rightshift>> shifts the bits by left or right"
   ]
  },
  {
   "cell_type": "code",
   "execution_count": 32,
   "id": "ed7c4b25-c060-46e7-bfee-66b8f6ba87ae",
   "metadata": {},
   "outputs": [
    {
     "data": {
      "text/plain": [
       "280"
      ]
     },
     "execution_count": 32,
     "metadata": {},
     "output_type": "execute_result"
    }
   ],
   "source": [
    "#left shift>>shifts the bits to the left by a specified no of position and put no of 0 on right side\n",
    "35<<3"
   ]
  },
  {
   "cell_type": "code",
   "execution_count": 52,
   "id": "ddb8006d-b16b-4b3c-8465-0495bbd8ea1a",
   "metadata": {},
   "outputs": [
    {
     "data": {
      "text/plain": [
       "'0b100011'"
      ]
     },
     "execution_count": 52,
     "metadata": {},
     "output_type": "execute_result"
    }
   ],
   "source": [
    "bin(35)"
   ]
  },
  {
   "cell_type": "code",
   "execution_count": 33,
   "id": "0a4b3932-f9c8-4235-9697-ca58177e3b59",
   "metadata": {},
   "outputs": [
    {
     "data": {
      "text/plain": [
       "'0b100011000'"
      ]
     },
     "execution_count": 33,
     "metadata": {},
     "output_type": "execute_result"
    }
   ],
   "source": [
    "bin(280)"
   ]
  },
  {
   "cell_type": "code",
   "execution_count": 54,
   "id": "227c8fcf-a8c2-4c6e-bc7f-1ab8d95094dd",
   "metadata": {
    "jp-MarkdownHeadingCollapsed": true,
    "tags": []
   },
   "outputs": [
    {
     "data": {
      "text/plain": [
       "10"
      ]
     },
     "execution_count": 54,
     "metadata": {},
     "output_type": "execute_result"
    }
   ],
   "source": [
    "5<<1"
   ]
  },
  {
   "cell_type": "code",
   "execution_count": 55,
   "id": "79b33427-ae83-4925-9642-b48a474be4b8",
   "metadata": {},
   "outputs": [
    {
     "data": {
      "text/plain": [
       "'0b101'"
      ]
     },
     "execution_count": 55,
     "metadata": {},
     "output_type": "execute_result"
    }
   ],
   "source": [
    "bin(5)"
   ]
  },
  {
   "cell_type": "code",
   "execution_count": 56,
   "id": "8baf3cc9-df1d-4e8c-8a6a-ec12cd690365",
   "metadata": {},
   "outputs": [
    {
     "data": {
      "text/plain": [
       "'0b1010'"
      ]
     },
     "execution_count": 56,
     "metadata": {},
     "output_type": "execute_result"
    }
   ],
   "source": [
    "bin(10)"
   ]
  },
  {
   "cell_type": "code",
   "execution_count": 57,
   "id": "7ffa97b6-318f-434a-9fa8-3b8c08b91f6d",
   "metadata": {},
   "outputs": [],
   "source": [
    "#right shift operator>>remove the number of elements in the binary\n"
   ]
  },
  {
   "cell_type": "code",
   "execution_count": 58,
   "id": "d238fbe6-9a89-4938-b8e8-59ec69b560c7",
   "metadata": {},
   "outputs": [
    {
     "data": {
      "text/plain": [
       "35"
      ]
     },
     "execution_count": 58,
     "metadata": {},
     "output_type": "execute_result"
    }
   ],
   "source": [
    "280>>3"
   ]
  },
  {
   "cell_type": "code",
   "execution_count": 59,
   "id": "ea5daba0-5fd7-4a2c-8a95-c6771be445c6",
   "metadata": {},
   "outputs": [
    {
     "data": {
      "text/plain": [
       "'0b100011000'"
      ]
     },
     "execution_count": 59,
     "metadata": {},
     "output_type": "execute_result"
    }
   ],
   "source": [
    "bin(280)"
   ]
  },
  {
   "cell_type": "code",
   "execution_count": 60,
   "id": "d6b999d3-2158-41b9-b9ed-8f825a0e6b55",
   "metadata": {},
   "outputs": [
    {
     "data": {
      "text/plain": [
       "'0b100011'"
      ]
     },
     "execution_count": 60,
     "metadata": {},
     "output_type": "execute_result"
    }
   ],
   "source": [
    "bin(35)"
   ]
  },
  {
   "cell_type": "code",
   "execution_count": 61,
   "id": "0bce3bdd-667b-4c2c-9bd9-2b129b03bca4",
   "metadata": {},
   "outputs": [
    {
     "data": {
      "text/plain": [
       "5"
      ]
     },
     "execution_count": 61,
     "metadata": {},
     "output_type": "execute_result"
    }
   ],
   "source": [
    "10>>1"
   ]
  },
  {
   "cell_type": "code",
   "execution_count": 62,
   "id": "1c3ae52e-c35f-4e1a-90a4-608841d948a2",
   "metadata": {},
   "outputs": [
    {
     "data": {
      "text/plain": [
       "'0b1010'"
      ]
     },
     "execution_count": 62,
     "metadata": {},
     "output_type": "execute_result"
    }
   ],
   "source": [
    "bin(10)"
   ]
  },
  {
   "cell_type": "code",
   "execution_count": 63,
   "id": "8784e946-0ae8-4fca-896f-9e8f435a96bf",
   "metadata": {},
   "outputs": [
    {
     "data": {
      "text/plain": [
       "'0b101'"
      ]
     },
     "execution_count": 63,
     "metadata": {},
     "output_type": "execute_result"
    }
   ],
   "source": [
    "bin(5)"
   ]
  },
  {
   "cell_type": "code",
   "execution_count": 64,
   "id": "80a76913-e6cf-4376-bfe9-390feb5c7ed0",
   "metadata": {
    "tags": []
   },
   "outputs": [
    {
     "data": {
      "text/plain": [
       "9"
      ]
     },
     "execution_count": 64,
     "metadata": {},
     "output_type": "execute_result"
    }
   ],
   "source": [
    "#order of precedence\n",
    "#left to right execution\n",
    "a=4\n",
    "a+=5\n",
    "a"
   ]
  },
  {
   "cell_type": "code",
   "execution_count": 65,
   "id": "35a9a9a2-8348-45bc-baa3-84384a29bcb4",
   "metadata": {},
   "outputs": [
    {
     "data": {
      "text/plain": [
       "4"
      ]
     },
     "execution_count": 65,
     "metadata": {},
     "output_type": "execute_result"
    }
   ],
   "source": [
    "2+3-1"
   ]
  },
  {
   "cell_type": "code",
   "execution_count": 34,
   "id": "1f912273-7759-45e1-9a17-fa3985850580",
   "metadata": {},
   "outputs": [
    {
     "data": {
      "text/plain": [
       "-4"
      ]
     },
     "execution_count": 34,
     "metadata": {},
     "output_type": "execute_result"
    }
   ],
   "source": [
    "# always parenthesis first\n",
    "4-(5+3)"
   ]
  },
  {
   "cell_type": "code",
   "execution_count": 67,
   "id": "721ea98e-70d2-4c57-a7e9-e07bf375d680",
   "metadata": {},
   "outputs": [
    {
     "data": {
      "text/plain": [
       "10.0"
      ]
     },
     "execution_count": 67,
     "metadata": {},
     "output_type": "execute_result"
    }
   ],
   "source": [
    "(1+5)+(8/2)"
   ]
  },
  {
   "cell_type": "code",
   "execution_count": null,
   "id": "4ac50bcc-243f-4934-9028-8efeaacc1b52",
   "metadata": {},
   "outputs": [],
   "source": [
    " #type conversion/type casting"
   ]
  },
  {
   "cell_type": "code",
   "execution_count": 68,
   "id": "20b70317-992d-40e9-9903-4a22635e246e",
   "metadata": {},
   "outputs": [
    {
     "data": {
      "text/plain": [
       "str"
      ]
     },
     "execution_count": 68,
     "metadata": {},
     "output_type": "execute_result"
    }
   ],
   "source": [
    "a=\"5\"\n",
    "type(a)"
   ]
  },
  {
   "cell_type": "code",
   "execution_count": 69,
   "id": "0b532978-e350-4709-9857-52202d4cce32",
   "metadata": {},
   "outputs": [
    {
     "data": {
      "text/plain": [
       "13"
      ]
     },
     "execution_count": 69,
     "metadata": {},
     "output_type": "execute_result"
    }
   ],
   "source": [
    "6+7"
   ]
  },
  {
   "cell_type": "code",
   "execution_count": 1,
   "id": "4778b71f-55be-4a8e-846b-1bc4ad4036be",
   "metadata": {},
   "outputs": [],
   "source": [
    "#typecasting>> the process of changing th edatatype of a value/object\n",
    "#why? while executing/computationusing operators there can be mismatch between the data"
   ]
  },
  {
   "cell_type": "code",
   "execution_count": 72,
   "id": "d3f03492-3eb3-4a25-8eb6-14902c14e23c",
   "metadata": {},
   "outputs": [
    {
     "data": {
      "text/plain": [
       "13"
      ]
     },
     "execution_count": 72,
     "metadata": {},
     "output_type": "execute_result"
    }
   ],
   "source": [
    "int(\"6\")+7"
   ]
  },
  {
   "cell_type": "code",
   "execution_count": 73,
   "id": "77851213-b59e-4184-acd8-7cf4a8bd80d9",
   "metadata": {},
   "outputs": [
    {
     "data": {
      "text/plain": [
       "106"
      ]
     },
     "execution_count": 73,
     "metadata": {},
     "output_type": "execute_result"
    }
   ],
   "source": [
    "a=\"100\"\n",
    "b=6\n",
    "a=int(a)\n",
    "a+b"
   ]
  },
  {
   "cell_type": "code",
   "execution_count": 76,
   "id": "8cff9aa9-70eb-4dc0-a908-dcb3851493ab",
   "metadata": {},
   "outputs": [
    {
     "data": {
      "text/plain": [
       "float"
      ]
     },
     "execution_count": 76,
     "metadata": {},
     "output_type": "execute_result"
    }
   ],
   "source": [
    "a=599\n",
    "type(float(a))"
   ]
  },
  {
   "cell_type": "code",
   "execution_count": 2,
   "id": "eb431f10-cc09-42aa-afe5-7d01fdcf2946",
   "metadata": {},
   "outputs": [
    {
     "name": "stdout",
     "output_type": "stream",
     "text": [
      "<class 'str'>\n",
      "<class 'int'>\n"
     ]
    }
   ],
   "source": [
    "#string to integer\n",
    "a=\"2\"\n",
    "print(type(a))\n",
    "print(type(int(a)))"
   ]
  },
  {
   "cell_type": "code",
   "execution_count": 3,
   "id": "b251d64c-07f3-4edb-a2a7-ce94261ab52d",
   "metadata": {},
   "outputs": [
    {
     "data": {
      "text/plain": [
       "float"
      ]
     },
     "execution_count": 3,
     "metadata": {},
     "output_type": "execute_result"
    }
   ],
   "source": [
    "#float to int\n",
    "a=3.4\n",
    "type(a)"
   ]
  },
  {
   "cell_type": "code",
   "execution_count": 4,
   "id": "1dcd276d-11cf-4543-9123-d57edff09637",
   "metadata": {},
   "outputs": [
    {
     "data": {
      "text/plain": [
       "3.4"
      ]
     },
     "execution_count": 4,
     "metadata": {},
     "output_type": "execute_result"
    }
   ],
   "source": [
    "a"
   ]
  },
  {
   "cell_type": "code",
   "execution_count": 5,
   "id": "ae5006b8-e865-4c76-9bdd-f1485e28ea10",
   "metadata": {},
   "outputs": [
    {
     "data": {
      "text/plain": [
       "3"
      ]
     },
     "execution_count": 5,
     "metadata": {},
     "output_type": "execute_result"
    }
   ],
   "source": [
    "int(a)"
   ]
  },
  {
   "cell_type": "code",
   "execution_count": 7,
   "id": "e294be61-e8e9-40e2-8cf3-224488703a40",
   "metadata": {},
   "outputs": [
    {
     "data": {
      "text/plain": [
       "int"
      ]
     },
     "execution_count": 7,
     "metadata": {},
     "output_type": "execute_result"
    }
   ],
   "source": [
    "b=6.78\n",
    "type(b)\n",
    "float_value=int(b)\n",
    "type(float_value)"
   ]
  },
  {
   "cell_type": "code",
   "execution_count": 8,
   "id": "5f20183d-eef0-476b-8012-81ac8289eef9",
   "metadata": {},
   "outputs": [
    {
     "data": {
      "text/plain": [
       "int"
      ]
     },
     "execution_count": 8,
     "metadata": {},
     "output_type": "execute_result"
    }
   ],
   "source": [
    "#int to float \n",
    "a=2\n",
    "type(a)"
   ]
  },
  {
   "cell_type": "code",
   "execution_count": 10,
   "id": "20ef51f4-e76d-48f7-8dfe-3139c9a4a46b",
   "metadata": {},
   "outputs": [
    {
     "data": {
      "text/plain": [
       "2.0"
      ]
     },
     "execution_count": 10,
     "metadata": {},
     "output_type": "execute_result"
    }
   ],
   "source": [
    "b= float(a)\n",
    "b"
   ]
  },
  {
   "cell_type": "code",
   "execution_count": 11,
   "id": "2a4b1d8c-a60c-4fc2-8a3e-771516fcfbfc",
   "metadata": {},
   "outputs": [
    {
     "data": {
      "text/plain": [
       "float"
      ]
     },
     "execution_count": 11,
     "metadata": {},
     "output_type": "execute_result"
    }
   ],
   "source": [
    "type(b)"
   ]
  },
  {
   "cell_type": "code",
   "execution_count": 17,
   "id": "6e0cbe07-bbb7-47f5-9f0f-2e60bf1b2658",
   "metadata": {},
   "outputs": [
    {
     "data": {
      "text/plain": [
       "str"
      ]
     },
     "execution_count": 17,
     "metadata": {},
     "output_type": "execute_result"
    }
   ],
   "source": [
    "#string to float\n",
    "a=\"2.3\"\n",
    "type(a)"
   ]
  },
  {
   "cell_type": "code",
   "execution_count": 18,
   "id": "05901391-c2ff-49a8-bb8a-87ce8aa9871d",
   "metadata": {},
   "outputs": [
    {
     "data": {
      "text/plain": [
       "2.3"
      ]
     },
     "execution_count": 18,
     "metadata": {},
     "output_type": "execute_result"
    }
   ],
   "source": [
    "b= float(a)\n",
    "b"
   ]
  },
  {
   "cell_type": "code",
   "execution_count": 19,
   "id": "648c6936-65a6-4ad0-9071-a7e1a9f93998",
   "metadata": {},
   "outputs": [
    {
     "data": {
      "text/plain": [
       "float"
      ]
     },
     "execution_count": 19,
     "metadata": {},
     "output_type": "execute_result"
    }
   ],
   "source": [
    "type(b)"
   ]
  },
  {
   "cell_type": "code",
   "execution_count": 20,
   "id": "e17da78e-9b05-4922-ac10-32e91c7df437",
   "metadata": {},
   "outputs": [
    {
     "data": {
      "text/plain": [
       "str"
      ]
     },
     "execution_count": 20,
     "metadata": {},
     "output_type": "execute_result"
    }
   ],
   "source": [
    "a=\"Ajay\"#characters cannot be converted into numbers\n",
    "type(a)"
   ]
  },
  {
   "cell_type": "code",
   "execution_count": 21,
   "id": "6561981b-5996-4511-ad4a-01269a511ea8",
   "metadata": {},
   "outputs": [
    {
     "ename": "ValueError",
     "evalue": "could not convert string to float: 'Ajay'",
     "output_type": "error",
     "traceback": [
      "\u001b[0;31m---------------------------------------------------------------------------\u001b[0m",
      "\u001b[0;31mValueError\u001b[0m                                Traceback (most recent call last)",
      "Cell \u001b[0;32mIn[21], line 1\u001b[0m\n\u001b[0;32m----> 1\u001b[0m \u001b[38;5;28;43mfloat\u001b[39;49m\u001b[43m(\u001b[49m\u001b[43ma\u001b[49m\u001b[43m)\u001b[49m\n",
      "\u001b[0;31mValueError\u001b[0m: could not convert string to float: 'Ajay'"
     ]
    }
   ],
   "source": [
    "float(a)"
   ]
  },
  {
   "cell_type": "code",
   "execution_count": 22,
   "id": "acbe629b-dd90-4cf5-ad7a-a8d5414eafc3",
   "metadata": {},
   "outputs": [
    {
     "data": {
      "text/plain": [
       "int"
      ]
     },
     "execution_count": 22,
     "metadata": {},
     "output_type": "execute_result"
    }
   ],
   "source": [
    "#integer to string\n",
    "a=5\n",
    "type(a)"
   ]
  },
  {
   "cell_type": "code",
   "execution_count": 24,
   "id": "bdc0f958-031c-439f-958e-e38a53a31bdb",
   "metadata": {},
   "outputs": [
    {
     "data": {
      "text/plain": [
       "'5'"
      ]
     },
     "execution_count": 24,
     "metadata": {},
     "output_type": "execute_result"
    }
   ],
   "source": [
    "b=str(a)\n",
    "b"
   ]
  },
  {
   "cell_type": "code",
   "execution_count": 25,
   "id": "2a0efc9f-9fd9-4cfb-9648-5be14fb42634",
   "metadata": {},
   "outputs": [
    {
     "data": {
      "text/plain": [
       "str"
      ]
     },
     "execution_count": 25,
     "metadata": {},
     "output_type": "execute_result"
    }
   ],
   "source": [
    "type(b)"
   ]
  },
  {
   "cell_type": "code",
   "execution_count": null,
   "id": "ed5ad5be-bbe9-4bff-8f5a-3974c88a1c0c",
   "metadata": {},
   "outputs": [],
   "source": [
    "#typecasting is of two types>>implicit and explicit"
   ]
  },
  {
   "cell_type": "code",
   "execution_count": 26,
   "id": "80327812-2618-4284-8647-baa1eea16414",
   "metadata": {},
   "outputs": [
    {
     "data": {
      "text/plain": [
       "1100"
      ]
     },
     "execution_count": 26,
     "metadata": {},
     "output_type": "execute_result"
    }
   ],
   "source": [
    "# implicit typecasting>> python understand the datatype \n",
    "a=500\n",
    "b=600\n",
    "a+b"
   ]
  },
  {
   "cell_type": "code",
   "execution_count": null,
   "id": "3a558345-65f3-49d6-b191-30f13f49f13f",
   "metadata": {},
   "outputs": [],
   "source": [
    "a=500"
   ]
  },
  {
   "cell_type": "code",
   "execution_count": 78,
   "id": "f0a9a7e5-42af-44f5-8683-0a6787ace94f",
   "metadata": {},
   "outputs": [
    {
     "data": {
      "text/plain": [
       "int"
      ]
     },
     "execution_count": 78,
     "metadata": {},
     "output_type": "execute_result"
    }
   ],
   "source": [
    "type(a)"
   ]
  },
  {
   "cell_type": "code",
   "execution_count": 79,
   "id": "6e00f1b4-27f6-49f1-ab86-37f99acaa04a",
   "metadata": {},
   "outputs": [
    {
     "data": {
      "text/plain": [
       "float"
      ]
     },
     "execution_count": 79,
     "metadata": {},
     "output_type": "execute_result"
    }
   ],
   "source": [
    "b=200.3\n",
    "type(b)"
   ]
  },
  {
   "cell_type": "code",
   "execution_count": 80,
   "id": "c562df51-24bd-4dfc-a032-4fe0a611dc00",
   "metadata": {},
   "outputs": [
    {
     "data": {
      "text/plain": [
       "1100.01"
      ]
     },
     "execution_count": 80,
     "metadata": {},
     "output_type": "execute_result"
    }
   ],
   "source": [
    "a=500\n",
    "b=600.01\n",
    "a+b"
   ]
  },
  {
   "cell_type": "code",
   "execution_count": null,
   "id": "5ce9354e-e983-43ca-932e-02b2e68632b7",
   "metadata": {},
   "outputs": [],
   "source": [
    "# explicit typecasting>>convert datatype using inbuilt functions>> str,int,float,bool"
   ]
  },
  {
   "cell_type": "code",
   "execution_count": 82,
   "id": "be442774-e24f-4497-80b0-fc774fd66a02",
   "metadata": {},
   "outputs": [
    {
     "data": {
      "text/plain": [
       "600"
      ]
     },
     "execution_count": 82,
     "metadata": {},
     "output_type": "execute_result"
    }
   ],
   "source": [
    "a=\"500\"\n",
    "a=int(a)\n",
    "a+100"
   ]
  },
  {
   "cell_type": "code",
   "execution_count": 84,
   "id": "2ba315f0-eef1-4572-8563-17e563486eff",
   "metadata": {},
   "outputs": [
    {
     "data": {
      "text/plain": [
       "str"
      ]
     },
     "execution_count": 84,
     "metadata": {},
     "output_type": "execute_result"
    }
   ],
   "source": [
    "a=100\n",
    "a=str(a)\n",
    "type(a)"
   ]
  },
  {
   "cell_type": "code",
   "execution_count": 85,
   "id": "d706a6ab-e6bc-48a6-9a08-3a470353ce48",
   "metadata": {},
   "outputs": [
    {
     "data": {
      "text/plain": [
       "'100'"
      ]
     },
     "execution_count": 85,
     "metadata": {},
     "output_type": "execute_result"
    }
   ],
   "source": [
    "a"
   ]
  },
  {
   "cell_type": "code",
   "execution_count": 27,
   "id": "5dbc175d-21ec-4755-85fb-175022a6f4b5",
   "metadata": {},
   "outputs": [
    {
     "ename": "TypeError",
     "evalue": "can only concatenate str (not \"int\") to str",
     "output_type": "error",
     "traceback": [
      "\u001b[0;31m---------------------------------------------------------------------------\u001b[0m",
      "\u001b[0;31mTypeError\u001b[0m                                 Traceback (most recent call last)",
      "Cell \u001b[0;32mIn[27], line 3\u001b[0m\n\u001b[1;32m      1\u001b[0m a\u001b[38;5;241m=\u001b[39m\u001b[38;5;124m\"\u001b[39m\u001b[38;5;124mAjay\u001b[39m\u001b[38;5;124m\"\u001b[39m\n\u001b[1;32m      2\u001b[0m b\u001b[38;5;241m=\u001b[39m\u001b[38;5;241m5\u001b[39m\n\u001b[0;32m----> 3\u001b[0m \u001b[43ma\u001b[49m\u001b[38;5;241;43m+\u001b[39;49m\u001b[43mb\u001b[49m\n",
      "\u001b[0;31mTypeError\u001b[0m: can only concatenate str (not \"int\") to str"
     ]
    }
   ],
   "source": [
    "a=\"Ajay\"\n",
    "b=5\n",
    "a+b"
   ]
  },
  {
   "cell_type": "code",
   "execution_count": 30,
   "id": "a0b2fa82-74dd-4b17-a94e-e84c4758f53a",
   "metadata": {},
   "outputs": [
    {
     "data": {
      "text/plain": [
       "'Ajay Kumar Gupta'"
      ]
     },
     "execution_count": 30,
     "metadata": {},
     "output_type": "execute_result"
    }
   ],
   "source": [
    "a=\"Ajay\"\n",
    "b=\" Kumar Gupta\"\n",
    "a+b #concatenation of strings >>meanin combining the string"
   ]
  },
  {
   "cell_type": "code",
   "execution_count": 32,
   "id": "202dca2f-9db4-4920-a98d-bbcc21b8e292",
   "metadata": {},
   "outputs": [
    {
     "data": {
      "text/plain": [
       "'100 Ajay'"
      ]
     },
     "execution_count": 32,
     "metadata": {},
     "output_type": "execute_result"
    }
   ],
   "source": [
    "\"100\"+\" Ajay\""
   ]
  },
  {
   "cell_type": "code",
   "execution_count": 87,
   "id": "cd41f1da-f6a0-46ba-97c1-c6d3d539fee5",
   "metadata": {},
   "outputs": [
    {
     "data": {
      "text/plain": [
       "False"
      ]
     },
     "execution_count": 87,
     "metadata": {},
     "output_type": "execute_result"
    }
   ],
   "source": [
    "#bool\n",
    "bool(0)"
   ]
  },
  {
   "cell_type": "code",
   "execution_count": 88,
   "id": "e64cf5bd-9a3e-4a8c-b7bf-b43a029c151a",
   "metadata": {},
   "outputs": [
    {
     "data": {
      "text/plain": [
       "True"
      ]
     },
     "execution_count": 88,
     "metadata": {},
     "output_type": "execute_result"
    }
   ],
   "source": [
    "bool(1)"
   ]
  },
  {
   "cell_type": "code",
   "execution_count": 33,
   "id": "308dfa3e-27a6-43e9-be32-70e881ab6fe6",
   "metadata": {},
   "outputs": [
    {
     "data": {
      "text/plain": [
       "True"
      ]
     },
     "execution_count": 33,
     "metadata": {},
     "output_type": "execute_result"
    }
   ],
   "source": [
    "bool(100)"
   ]
  },
  {
   "cell_type": "code",
   "execution_count": 34,
   "id": "6aa00159-a5f0-4c7f-83b9-aa576c01dd37",
   "metadata": {},
   "outputs": [
    {
     "data": {
      "text/plain": [
       "True"
      ]
     },
     "execution_count": 34,
     "metadata": {},
     "output_type": "execute_result"
    }
   ],
   "source": [
    "bool(9870)"
   ]
  },
  {
   "cell_type": "code",
   "execution_count": 35,
   "id": "59cdc586-ffba-4ccd-ab51-76755b2c9b6b",
   "metadata": {},
   "outputs": [
    {
     "data": {
      "text/plain": [
       "True"
      ]
     },
     "execution_count": 35,
     "metadata": {},
     "output_type": "execute_result"
    }
   ],
   "source": [
    "bool(\"Ajay\")"
   ]
  },
  {
   "cell_type": "code",
   "execution_count": 36,
   "id": "c65d14e7-5e85-409e-9d03-62a4a7c6222a",
   "metadata": {},
   "outputs": [
    {
     "data": {
      "text/plain": [
       "False"
      ]
     },
     "execution_count": 36,
     "metadata": {},
     "output_type": "execute_result"
    }
   ],
   "source": [
    "bool(\"\")# empty string"
   ]
  },
  {
   "cell_type": "code",
   "execution_count": 37,
   "id": "e4e8f9b1-2805-4fef-a485-4ce1bc661d85",
   "metadata": {},
   "outputs": [
    {
     "data": {
      "text/plain": [
       "True"
      ]
     },
     "execution_count": 37,
     "metadata": {},
     "output_type": "execute_result"
    }
   ],
   "source": [
    "bool(-3)"
   ]
  },
  {
   "cell_type": "code",
   "execution_count": 89,
   "id": "e9a68b3f-65ac-4334-a1cc-0f4536c3c75a",
   "metadata": {},
   "outputs": [],
   "source": [
    "#conditional statement>> i will go play cricket when the weather is sunny\n",
    "#loop statements>> i willm keep checking until all the dishes are over in a buffet\n",
    "#break statement>> i will check out all the dishes until i get pasta\n",
    "\n"
   ]
  },
  {
   "cell_type": "code",
   "execution_count": null,
   "id": "99e814ef-6cfb-416b-bb27-dc638e98f1ac",
   "metadata": {},
   "outputs": [],
   "source": [
    "#Conditional statements>> helps you to code decisions based on some pre conditions\n",
    "##if condition\n",
    "#if else\n",
    "#if elif else\n",
    "#nested if else"
   ]
  },
  {
   "cell_type": "code",
   "execution_count": null,
   "id": "f8f2b09e-e99c-4f64-99c0-6b2209cd6c36",
   "metadata": {},
   "outputs": [],
   "source": [
    "#if condition\n",
    "#if condition true:\n",
    "   #executed this block of code\n",
    "    "
   ]
  },
  {
   "cell_type": "code",
   "execution_count": 90,
   "id": "043e7608-96dc-4ccb-a6df-3aef9cb96a3b",
   "metadata": {},
   "outputs": [
    {
     "data": {
      "text/plain": [
       "True"
      ]
     },
     "execution_count": 90,
     "metadata": {},
     "output_type": "execute_result"
    }
   ],
   "source": [
    "5==5"
   ]
  },
  {
   "cell_type": "code",
   "execution_count": 91,
   "id": "883f8d26-87bc-417d-ad5f-f547c5be41f1",
   "metadata": {},
   "outputs": [
    {
     "data": {
      "text/plain": [
       "False"
      ]
     },
     "execution_count": 91,
     "metadata": {},
     "output_type": "execute_result"
    }
   ],
   "source": [
    "3>4"
   ]
  },
  {
   "cell_type": "code",
   "execution_count": 92,
   "id": "5e18fe05-992a-496a-8a8b-e580caed8c08",
   "metadata": {},
   "outputs": [
    {
     "data": {
      "text/plain": [
       "True"
      ]
     },
     "execution_count": 92,
     "metadata": {},
     "output_type": "execute_result"
    }
   ],
   "source": [
    "5>3\n"
   ]
  },
  {
   "cell_type": "code",
   "execution_count": 2,
   "id": "de9b9c28-1c64-41f7-9e62-4eadda4de32b",
   "metadata": {},
   "outputs": [
    {
     "name": "stdout",
     "output_type": "stream",
     "text": [
      "a is greater than 100\n"
     ]
    }
   ],
   "source": [
    "a=200\n",
    "if a>100:# to execute the if block of code if the condition is true\n",
    "    print(\"a is greater than 100\")"
   ]
  },
  {
   "cell_type": "code",
   "execution_count": 2,
   "id": "83968121-6ee9-4217-afc4-f6e49b301d0f",
   "metadata": {},
   "outputs": [
    {
     "name": "stdout",
     "output_type": "stream",
     "text": [
      "i will not play cricket\n"
     ]
    }
   ],
   "source": [
    "weather =\"rainy\"\n",
    "if (weather ==\"rainy\"):\n",
    "    print(\"i will not play cricket\")# indentations are necssary here"
   ]
  },
  {
   "cell_type": "code",
   "execution_count": null,
   "id": "10eca3b0-b5e9-44ea-b976-fef9c536a7d9",
   "metadata": {},
   "outputs": [],
   "source": [
    "#conditional statements are used to code decisions"
   ]
  },
  {
   "cell_type": "code",
   "execution_count": 3,
   "id": "d0d56cc5-95fe-4d25-a11c-a76f92b6e49f",
   "metadata": {},
   "outputs": [
    {
     "name": "stdout",
     "output_type": "stream",
     "text": [
      "this is a room temp\n"
     ]
    }
   ],
   "source": [
    "temp=25\n",
    "if (temp==25):\n",
    "    print(\"this is a room temp\")"
   ]
  },
  {
   "cell_type": "code",
   "execution_count": 4,
   "id": "d93f0532-b2f4-4a4d-a377-79ec2f8d3132",
   "metadata": {},
   "outputs": [
    {
     "name": "stdout",
     "output_type": "stream",
     "text": [
      "i am studying in pwskills\n"
     ]
    }
   ],
   "source": [
    "is_ds_course= True\n",
    "if is_ds_course:\n",
    "    print(\"i am studying in pwskills\")"
   ]
  },
  {
   "cell_type": "code",
   "execution_count": 3,
   "id": "4aa8b484-9ed8-48f0-87d3-490ec0c96a18",
   "metadata": {},
   "outputs": [
    {
     "name": "stdout",
     "output_type": "stream",
     "text": [
      "it is a positive number\n"
     ]
    }
   ],
   "source": [
    "num=2\n",
    "if num>0:\n",
    "    print(\"it is a positive number\")"
   ]
  },
  {
   "cell_type": "code",
   "execution_count": 4,
   "id": "c662ae7b-ab8f-455a-b9dd-c1b0113dd04d",
   "metadata": {},
   "outputs": [
    {
     "name": "stdout",
     "output_type": "stream",
     "text": [
      "this is the number of interst\n"
     ]
    }
   ],
   "source": [
    "# in real life decisions are made based on multiple conditions \n",
    "\n",
    "number =42\n",
    "if ((number%2==0)&(number>0)):\n",
    "    print(\"this is the number of interst\")"
   ]
  },
  {
   "cell_type": "code",
   "execution_count": 5,
   "id": "2065b35f-a3ad-422b-a87c-145b3f919e19",
   "metadata": {},
   "outputs": [
    {
     "name": "stdout",
     "output_type": "stream",
     "text": [
      "you are all rounder\n"
     ]
    }
   ],
   "source": [
    "grade =8 \n",
    "co_cirr=True\n",
    "if((grade>=8) and (co_cirr==True)):\n",
    "    print(\"you are all rounder\")"
   ]
  },
  {
   "cell_type": "code",
   "execution_count": 6,
   "id": "4cb59af3-40c1-48cc-9783-700c2da47699",
   "metadata": {},
   "outputs": [],
   "source": [
    "# in real life if one condition is nit fulfilled you will do something else\n",
    "#example:- if weather is not rainy,i will play cricket else i will watch tv"
   ]
  },
  {
   "cell_type": "code",
   "execution_count": 7,
   "id": "eabdf61e-73f6-451f-a88a-276acafa4b4e",
   "metadata": {},
   "outputs": [
    {
     "name": "stdout",
     "output_type": "stream",
     "text": [
      "i will watch a movie\n"
     ]
    }
   ],
   "source": [
    "#if-else>> execute the if block if condition is true else execute else block\n",
    "\n",
    "is_ds_course=False\n",
    "if is_ds_course:\n",
    "    print(\"i am studying in pw skills and watching the lecture\")\n",
    "else:\n",
    "         print(\"i will watch a movie\")"
   ]
  },
  {
   "cell_type": "code",
   "execution_count": 108,
   "id": "c8239e29-aebd-44e8-9d58-debad39b47b1",
   "metadata": {},
   "outputs": [
    {
     "name": "stdout",
     "output_type": "stream",
     "text": [
      "x is less than equals to 5\n"
     ]
    }
   ],
   "source": [
    "x=1\n",
    "if x>5:\n",
    "    print(\"x is greater than 5\")\n",
    "else:\n",
    "    print(\"x is less than equals to 5\")"
   ]
  },
  {
   "cell_type": "code",
   "execution_count": 10,
   "id": "7b453bc0-2ac2-4472-bdc1-9c393df14439",
   "metadata": {},
   "outputs": [
    {
     "name": "stdout",
     "output_type": "stream",
     "text": [
      "go to home and be a responsible person\n"
     ]
    }
   ],
   "source": [
    "age=10\n",
    "if age>=21:\n",
    "    print(\"you are allowed to enter the bar and get served\")\n",
    "else:\n",
    "    print(\"go to home and be a responsible person\")\n"
   ]
  },
  {
   "cell_type": "code",
   "execution_count": 112,
   "id": "281747cc-6440-4b90-9c6b-2b566604fcdd",
   "metadata": {},
   "outputs": [
    {
     "data": {
      "text/plain": [
       "0"
      ]
     },
     "execution_count": 112,
     "metadata": {},
     "output_type": "execute_result"
    }
   ],
   "source": [
    "#to check if a number is even\n",
    "6%2"
   ]
  },
  {
   "cell_type": "code",
   "execution_count": 14,
   "id": "8e2d9109-9443-4731-b19f-e7b093609bd5",
   "metadata": {},
   "outputs": [
    {
     "name": "stdout",
     "output_type": "stream",
     "text": [
      "even\n"
     ]
    }
   ],
   "source": [
    "num=8\n",
    "if num%2 ==0:\n",
    "    print(\"even\")\n",
    "else:\n",
    "    print(\"odd\")"
   ]
  },
  {
   "cell_type": "code",
   "execution_count": 8,
   "id": "ceafb873-fb59-49e6-950f-6431be504721",
   "metadata": {},
   "outputs": [
    {
     "name": "stdout",
     "output_type": "stream",
     "text": [
      "fail\n"
     ]
    }
   ],
   "source": [
    "score=20\n",
    "if score>=33:\n",
    "    print(\"pass\")\n",
    "else:\n",
    "    print(\"fail\")"
   ]
  },
  {
   "cell_type": "code",
   "execution_count": null,
   "id": "0f9ce038-88c9-41ec-aecf-f5a7d3adf69f",
   "metadata": {},
   "outputs": [],
   "source": [
    "#if else>> two conditions\n",
    "#in real life we can have multiple condition"
   ]
  },
  {
   "cell_type": "code",
   "execution_count": 15,
   "id": "9561caf1-fc06-42eb-9a9d-fb22351df565",
   "metadata": {},
   "outputs": [
    {
     "name": "stdout",
     "output_type": "stream",
     "text": [
      "the no is less than 100\n"
     ]
    }
   ],
   "source": [
    "#if -elif -else\n",
    "a=10\n",
    "if a>100:\n",
    "    print(\"no is greater than 100\")\n",
    "elif a<100:\n",
    "    print(\"the no is less than 100\")\n",
    "else:\n",
    "    print(\"equals to 100\")"
   ]
  },
  {
   "cell_type": "code",
   "execution_count": 17,
   "id": "72ae0bcc-b2dc-4a0b-a92b-2fc516406fa2",
   "metadata": {},
   "outputs": [
    {
     "name": "stdout",
     "output_type": "stream",
     "text": [
      "grade is A+\n"
     ]
    }
   ],
   "source": [
    "score=93\n",
    "if (score>=90):\n",
    "    print(\"grade is A+\")\n",
    "elif (80<=score<=90):\n",
    "    print(\"the grade is A\")\n",
    "elif (70<=score<80):\n",
    "    print(\"the grade is B+\")\n",
    "elif (60<=score<70):\n",
    "    print(\"the grade is B\")\n",
    "else:\n",
    "    print(\"you are fail\")\n"
   ]
  },
  {
   "cell_type": "markdown",
   "id": "cd1244a5-eeb5-4d18-a533-2deb834f5fd1",
   "metadata": {},
   "source": [
    "HOMEWORK"
   ]
  },
  {
   "cell_type": "code",
   "execution_count": 1,
   "id": "94c1de19-2222-4f3a-839a-331e36b6b8b2",
   "metadata": {},
   "outputs": [
    {
     "name": "stdout",
     "output_type": "stream",
     "text": [
      "it is late night\n"
     ]
    }
   ],
   "source": [
    "hour=24\n",
    "if (3<=hour<=5):\n",
    "    print(\"it is pre morning\")\n",
    "elif (5<hour<=11):\n",
    "    print(\"it is morning\")\n",
    "elif (12<=hour<=14):\n",
    "    print(\"it is afternoon\")\n",
    "elif (14<hour<=16):\n",
    "    print(\"it is late afternoon\")\n",
    "elif (16<hour<=18):\n",
    "    print(\"it is evening\")\n",
    "elif (18<hour<=22):\n",
    "    print(\"it is night\")\n",
    "elif (22<hour<=24 or 1<=hour<=2):\n",
    "    print(\"it is late night\")\n",
    "else:\n",
    "    print(\"invalid\")"
   ]
  },
  {
   "cell_type": "code",
   "execution_count": 27,
   "id": "04774b99-6706-47a2-ae69-d324baddffc6",
   "metadata": {},
   "outputs": [
    {
     "name": "stdout",
     "output_type": "stream",
     "text": [
      "x is not greater than 5 \n"
     ]
    }
   ],
   "source": [
    "# nested if else>> you can have multiple if else inside if else\n",
    "x=5\n",
    "y=6\n",
    "if x>5:\n",
    "    if y>5:\n",
    "        print(\"both x and y is greater than 5\")\n",
    "    else:\n",
    "        print(\"x is greater than 5 but y is less than 5\")\n",
    "else:\n",
    "    print(\"x is not greater than 5 \")"
   ]
  },
  {
   "cell_type": "code",
   "execution_count": 35,
   "id": "2e669d77-dad7-4f14-ace8-96ef829fdb7b",
   "metadata": {},
   "outputs": [
    {
     "name": "stdout",
     "output_type": "stream",
     "text": [
      "vip status is only for adult\n"
     ]
    }
   ],
   "source": [
    "is_vip=True\n",
    "age=17\n",
    "if is_vip:\n",
    "    if age>=18:\n",
    "        if age<65:\n",
    "            print(\"welcome to vip customer\")\n",
    "        else:\n",
    "            print(\"you are vip and very imp. you are eligile for senior citizen discount\")\n",
    "    else:\n",
    "        print(\"vip status is only for adult\")\n",
    "else:\n",
    "    print(\"you are not a vip customer and will be charged a regular price\")"
   ]
  },
  {
   "cell_type": "code",
   "execution_count": 47,
   "id": "4dadf10f-4cc7-4935-a2f8-edea6784bd8f",
   "metadata": {},
   "outputs": [
    {
     "name": "stdin",
     "output_type": "stream",
     "text": [
      "enter a number 100\n"
     ]
    },
    {
     "name": "stdout",
     "output_type": "stream",
     "text": [
      "the number is 100\n"
     ]
    }
   ],
   "source": [
    "d=input(\"enter a number\") #by default ,input treats everything as string\n",
    "print(\"the number is\",d)"
   ]
  },
  {
   "cell_type": "code",
   "execution_count": 48,
   "id": "9fb2a55f-d3d4-477c-b814-e2d2ae6e9db9",
   "metadata": {},
   "outputs": [
    {
     "data": {
      "text/plain": [
       "str"
      ]
     },
     "execution_count": 48,
     "metadata": {},
     "output_type": "execute_result"
    }
   ],
   "source": [
    "type(d)"
   ]
  },
  {
   "cell_type": "code",
   "execution_count": 49,
   "id": "922df569-c723-4e98-8acd-b5fa1ed026e2",
   "metadata": {},
   "outputs": [
    {
     "name": "stdin",
     "output_type": "stream",
     "text": [
      "enter a number 3\n"
     ]
    },
    {
     "data": {
      "text/plain": [
       "3"
      ]
     },
     "execution_count": 49,
     "metadata": {},
     "output_type": "execute_result"
    }
   ],
   "source": [
    "a=int(input(\"enter a number\"))\n",
    "a"
   ]
  },
  {
   "cell_type": "code",
   "execution_count": 50,
   "id": "7ac3b7f3-f5a0-4902-a186-53277c84bcbc",
   "metadata": {},
   "outputs": [
    {
     "data": {
      "text/plain": [
       "int"
      ]
     },
     "execution_count": 50,
     "metadata": {},
     "output_type": "execute_result"
    }
   ],
   "source": [
    "type(a)"
   ]
  },
  {
   "cell_type": "code",
   "execution_count": 55,
   "id": "4c9a5d91-cfc4-4d0e-b72c-3f5635fa3ed0",
   "metadata": {},
   "outputs": [
    {
     "name": "stdin",
     "output_type": "stream",
     "text": [
      "enter a number 2\n"
     ]
    },
    {
     "name": "stdout",
     "output_type": "stream",
     "text": [
      "the no is greater than 0 and less than 100\n"
     ]
    }
   ],
   "source": [
    "a= int(input(\"enter a number\"))\n",
    "if a>=100:\n",
    "    print(\"the no is greater than 100\")\n",
    "elif 0<=a<100:\n",
    "    print(\"the no is greater than 0 and less than 100\")\n",
    "else:\n",
    "    print(\"this is a negative no\")"
   ]
  },
  {
   "cell_type": "code",
   "execution_count": 56,
   "id": "8d56ce8d-3371-4b76-aa66-c0d400430967",
   "metadata": {},
   "outputs": [
    {
     "data": {
      "text/plain": [
       "4"
      ]
     },
     "execution_count": 56,
     "metadata": {},
     "output_type": "execute_result"
    }
   ],
   "source": [
    "len(\"ajay\")"
   ]
  },
  {
   "cell_type": "code",
   "execution_count": 59,
   "id": "eabdd22d-8cc2-48fa-8f7d-fd046f394c08",
   "metadata": {},
   "outputs": [
    {
     "name": "stdin",
     "output_type": "stream",
     "text": [
      "please enter your name harshit\n",
      "please enter your email bhatiaharshit2005@gmail.com\n",
      "please enter your password muskit0708\n"
     ]
    },
    {
     "name": "stdout",
     "output_type": "stream",
     "text": [
      "login/registration successfull\n"
     ]
    }
   ],
   "source": [
    "name= input(\"please enter your name\")\n",
    "email= input(\"please enter your email\")\n",
    "password= input(\"please enter your password\")\n",
    "if name==\"\":\n",
    "    print(\"please enter a valid name,cannot be empty\")\n",
    "else:\n",
    "    if \"@\" not in email:\n",
    "        print(\"please enter a valid email\")\n",
    "    else:\n",
    "        if len(password)<0:\n",
    "            print(\"no password entered,please enter a valid password\")\n",
    "        else:\n",
    "            print(\"login/registration successfull\")\n",
    "            "
   ]
  },
  {
   "cell_type": "code",
   "execution_count": null,
   "id": "91d287c8-d677-49e4-a599-cf634d98083a",
   "metadata": {},
   "outputs": [],
   "source": [
    "#loop statements>>it allows you to execute a block of code repeatedly\n",
    "#loops>> while loop and for loops\n"
   ]
  },
  {
   "cell_type": "code",
   "execution_count": 1,
   "id": "c98098f0-49c0-4af1-82e5-bde4bf880f9e",
   "metadata": {},
   "outputs": [],
   "source": [
    "# while>>repeatedly executes a block of code until a condition is met"
   ]
  },
  {
   "cell_type": "code",
   "execution_count": null,
   "id": "1b54b1ec-e23e-40c0-92ca-6705f329b838",
   "metadata": {},
   "outputs": [],
   "source": [
    "#syntax\n",
    "#while condition:\n",
    "#  block of code\n",
    "#>> while is a keyword used for a while loop"
   ]
  },
  {
   "cell_type": "code",
   "execution_count": 3,
   "id": "0206a263-10c8-4a68-916e-c03648ab70e7",
   "metadata": {},
   "outputs": [
    {
     "name": "stdout",
     "output_type": "stream",
     "text": [
      "1\n",
      "2\n",
      "3\n",
      "4\n",
      "5\n",
      "6\n"
     ]
    }
   ],
   "source": [
    "n=7\n",
    "i=1\n",
    "while i<n:\n",
    "    print(i)\n",
    "    i=i+1"
   ]
  },
  {
   "cell_type": "code",
   "execution_count": 6,
   "id": "277e9bd3-e343-4fd0-bb81-0da4b2285e4d",
   "metadata": {},
   "outputs": [
    {
     "name": "stdout",
     "output_type": "stream",
     "text": [
      "5\n",
      "4\n",
      "3\n",
      "2\n",
      "1\n"
     ]
    }
   ],
   "source": [
    "count=5\n",
    "while count>0:\n",
    "    print(count)\n",
    "    count=count-1"
   ]
  },
  {
   "cell_type": "code",
   "execution_count": 7,
   "id": "13132ee0-dc56-4364-a933-ead80d6a5f9f",
   "metadata": {},
   "outputs": [
    {
     "name": "stdout",
     "output_type": "stream",
     "text": [
      "1\n",
      "2\n",
      "3\n",
      "4\n",
      "5\n",
      "6\n",
      "this will be executed when the while is run successfully without any break\n"
     ]
    }
   ],
   "source": [
    "n=7\n",
    "i=1\n",
    "while i<n:\n",
    "    print(i)\n",
    "    i=i+1\n",
    "else:\n",
    "    print(\"this will be executed when the while is run successfully without any break\")\n",
    "        "
   ]
  },
  {
   "cell_type": "code",
   "execution_count": 8,
   "id": "bc0e2abe-f215-4046-8546-70c0b5c37631",
   "metadata": {},
   "outputs": [
    {
     "name": "stdout",
     "output_type": "stream",
     "text": [
      "1\n",
      "2\n"
     ]
    }
   ],
   "source": [
    "# break terminates/exits the loop\n",
    "# the condition is met it will break the loop\n",
    "n=7\n",
    "i=1\n",
    "while i<n:\n",
    "    print(i)\n",
    "    i=i+1\n",
    "    if i==3:\n",
    "        break\n",
    "else:\n",
    "    print(\"this will be executed when the while is run successfully without any break\")       "
   ]
  },
  {
   "cell_type": "code",
   "execution_count": 19,
   "id": "cb1a64ba-456b-49dd-a7ac-d62d3e8ef3ba",
   "metadata": {},
   "outputs": [
    {
     "name": "stdout",
     "output_type": "stream",
     "text": [
      "2\n",
      "4\n",
      "5\n",
      "6\n",
      "7\n",
      "this will be executed when the while is run successfully without any break\n"
     ]
    }
   ],
   "source": [
    "#continue>> skips the iteration\n",
    "n=7\n",
    "i=1\n",
    "while i<n:\n",
    "    i=i+1\n",
    "    if i==3:\n",
    "        continue\n",
    "    print(i)\n",
    "else:\n",
    "    print(\"this will be executed when the while is run successfully without any break\") "
   ]
  },
  {
   "cell_type": "code",
   "execution_count": 1,
   "id": "a420a3b5-c4ee-47cf-a852-cddeb5b43b94",
   "metadata": {},
   "outputs": [
    {
     "name": "stdout",
     "output_type": "stream",
     "text": [
      "p\n",
      "w\n",
      "s\n",
      "k\n",
      "i\n",
      "l\n",
      "l\n",
      "s\n"
     ]
    }
   ],
   "source": [
    "#for loop>> iterate over a sequence of elements>> strings,lists\n",
    "for i in \"pwskills\":\n",
    "    print(i)"
   ]
  },
  {
   "cell_type": "code",
   "execution_count": 2,
   "id": "31ba7789-0d7f-433c-a054-e759023d1cbc",
   "metadata": {},
   "outputs": [
    {
     "name": "stdout",
     "output_type": "stream",
     "text": [
      "p\n",
      "w\n",
      "s\n",
      "k\n",
      "i\n",
      "l\n",
      "l\n",
      "s\n"
     ]
    }
   ],
   "source": [
    "a= \"pwskills\"\n",
    "for i in a:\n",
    "    print(i)"
   ]
  },
  {
   "cell_type": "code",
   "execution_count": 3,
   "id": "241a2f8e-6c7a-4441-8c2e-97d8b4ef256d",
   "metadata": {},
   "outputs": [
    {
     "name": "stdout",
     "output_type": "stream",
     "text": [
      "1\n",
      "2\n",
      "Ajay\n",
      "pwskills\n"
     ]
    }
   ],
   "source": [
    "l=[1,2,\"Ajay\",\"pwskills\"]\n",
    "for i in l:\n",
    "    print(i)"
   ]
  },
  {
   "cell_type": "code",
   "execution_count": 4,
   "id": "7fee6bf7-bc8f-41d1-a147-9c89d592b922",
   "metadata": {},
   "outputs": [
    {
     "name": "stdout",
     "output_type": "stream",
     "text": [
      "1\n",
      "2\n",
      "Ajay\n",
      "pwskills\n",
      "this will be executed when for loop ends without a break statement\n"
     ]
    }
   ],
   "source": [
    "for i in l:\n",
    "    print(i)\n",
    "else:\n",
    "    print(\"this will be executed when for loop ends without a break statement\")"
   ]
  },
  {
   "cell_type": "code",
   "execution_count": 7,
   "id": "2a97387c-158e-427a-82c2-bff2e51af07f",
   "metadata": {},
   "outputs": [
    {
     "name": "stdout",
     "output_type": "stream",
     "text": [
      "1\n",
      "2\n"
     ]
    }
   ],
   "source": [
    "# break statement in for loop\n",
    "for i in l:\n",
    "    if i==\"Ajay\":\n",
    "        break\n",
    "    print(i)\n",
    "else:\n",
    "    print(\"this will be executed when for loop ends without a break statement\")"
   ]
  },
  {
   "cell_type": "code",
   "execution_count": 10,
   "id": "ae655b3a-f12e-42c9-a9c9-331899082720",
   "metadata": {},
   "outputs": [
    {
     "name": "stdout",
     "output_type": "stream",
     "text": [
      "1\n",
      "2\n",
      "pwskills\n",
      "this will be executed when for loop ends without a break statement\n"
     ]
    }
   ],
   "source": [
    "#continue statement in for loop\n",
    "for i in l:\n",
    "    if i==\"Ajay\":\n",
    "        continue\n",
    "    print(i)\n",
    "else:\n",
    "    print(\"this will be executed when for loop ends without a break statement\")"
   ]
  },
  {
   "cell_type": "code",
   "execution_count": 12,
   "id": "eb2333a3-3a71-4cc8-9c6f-5ca161abed2d",
   "metadata": {},
   "outputs": [
    {
     "data": {
      "text/plain": [
       "[0, 1, 2, 3, 4, 5, 6, 7, 8, 9]"
      ]
     },
     "execution_count": 12,
     "metadata": {},
     "output_type": "execute_result"
    }
   ],
   "source": [
    "# range is a keyword the gives you the range of given values\n",
    "list(range(0,10))#it will give value from 0 to 9"
   ]
  },
  {
   "cell_type": "code",
   "execution_count": 17,
   "id": "8718b2c4-51c0-4f7b-b8b7-96270a0df2b9",
   "metadata": {},
   "outputs": [
    {
     "name": "stdout",
     "output_type": "stream",
     "text": [
      "0  1  2  3  4  5  6  7  8  9  "
     ]
    }
   ],
   "source": [
    "for i in range(0,10):\n",
    "    print(i,end=\"  \")#end gives you the number of spaces you want"
   ]
  },
  {
   "cell_type": "code",
   "execution_count": 18,
   "id": "a43e91fc-8a25-4008-a734-58d65c7d8a4e",
   "metadata": {},
   "outputs": [
    {
     "data": {
      "text/plain": [
       "[0, 5, 10, 15, 20, 25, 30, 35, 40, 45, 50, 55, 60, 65, 70, 75, 80, 85, 90, 95]"
      ]
     },
     "execution_count": 18,
     "metadata": {},
     "output_type": "execute_result"
    }
   ],
   "source": [
    "#syntaxc of range(start,stop,step)\n",
    "list(range(0,100,5))"
   ]
  },
  {
   "cell_type": "code",
   "execution_count": 24,
   "id": "c862bc0a-a951-4aa1-b0b0-50433c7b84c3",
   "metadata": {},
   "outputs": [
    {
     "name": "stdout",
     "output_type": "stream",
     "text": [
      "0#1#2#3#4#5#6#7#8#9#"
     ]
    }
   ],
   "source": [
    "for i in range(0,10):\n",
    "    print(i,end=\"#\")"
   ]
  },
  {
   "cell_type": "code",
   "execution_count": 22,
   "id": "23d9a8a9-ad4c-4ea1-8645-9ce15b54062b",
   "metadata": {},
   "outputs": [
    {
     "name": "stdout",
     "output_type": "stream",
     "text": [
      "*\n",
      "**\n",
      "***\n",
      "****\n"
     ]
    }
   ],
   "source": [
    "#problem statement\n",
    "#print a right tringle with * using while loop\n",
    "row=1\n",
    "while row<=4:\n",
    "    col=1\n",
    "    while col<=row:\n",
    "        print(\"*\",end=\"\")\n",
    "        col=col+1\n",
    "    print()\n",
    "    row=row+1"
   ]
  },
  {
   "cell_type": "code",
   "execution_count": 26,
   "id": "2133c94b-d5c4-42a8-bce6-5c0a19fe2d92",
   "metadata": {},
   "outputs": [
    {
     "name": "stdout",
     "output_type": "stream",
     "text": [
      "*\n",
      "**\n",
      "***\n",
      "****\n"
     ]
    }
   ],
   "source": [
    "#print a right tringle with * using for loop\n",
    "for i in range(4):\n",
    "    for j in range(i+1):\n",
    "        print(\"*\",end=\"\")\n",
    "    print()"
   ]
  },
  {
   "cell_type": "code",
   "execution_count": 35,
   "id": "297837a3-5e89-44bd-a0ae-c8afb342db9e",
   "metadata": {},
   "outputs": [
    {
     "name": "stdout",
     "output_type": "stream",
     "text": [
      "* * * \n",
      "* * * \n",
      "* * * \n"
     ]
    }
   ],
   "source": [
    "#internal homework>> square of asteric\n",
    "#* * *\n",
    "#* * *\n",
    "#* * *\n",
    "for i in range(3):\n",
    "    for j in range(3):\n",
    "        print(\"*\",end=\" \")\n",
    "    print()\n",
    "        "
   ]
  },
  {
   "cell_type": "code",
   "execution_count": 2,
   "id": "b3060de7-48fd-4024-b520-00761ca87452",
   "metadata": {},
   "outputs": [
    {
     "name": "stdout",
     "output_type": "stream",
     "text": [
      "1\n",
      "2\n",
      "4\n",
      "5\n",
      "6\n",
      "8\n",
      "9\n"
     ]
    }
   ],
   "source": [
    "#conditionals with for loop\n",
    "number=[1,2,3,4,5,6,7,8,9]\n",
    "for num in number:\n",
    "    if (num==3) or (num==7):\n",
    "        continue\n",
    "    print(num)"
   ]
  },
  {
   "cell_type": "code",
   "execution_count": 3,
   "id": "e8f83e03-9255-47cd-a01b-b67dc07e7837",
   "metadata": {},
   "outputs": [
    {
     "name": "stdout",
     "output_type": "stream",
     "text": [
      "1\n",
      "2\n"
     ]
    }
   ],
   "source": [
    "number=[1,2,3,4,5,6,7,8,9]\n",
    "for num in number:\n",
    "    if (num==3) or (num==7):\n",
    "        break\n",
    "    print(num)"
   ]
  },
  {
   "cell_type": "code",
   "execution_count": 6,
   "id": "20c2cd3e-f71b-470e-aa65-3a9059e55185",
   "metadata": {},
   "outputs": [
    {
     "name": "stdout",
     "output_type": "stream",
     "text": [
      "0\n",
      "2\n",
      "4\n",
      "6\n",
      "8\n"
     ]
    }
   ],
   "source": [
    "#print the even no\n",
    "for i in range(10):\n",
    "    if i%2!=0:\n",
    "        continue\n",
    "    print(i)        "
   ]
  },
  {
   "cell_type": "code",
   "execution_count": 7,
   "id": "77222911-94b3-428a-aacc-2a61944f4a51",
   "metadata": {},
   "outputs": [
    {
     "name": "stdout",
     "output_type": "stream",
     "text": [
      "1\n",
      "3\n",
      "5\n",
      "7\n",
      "9\n"
     ]
    }
   ],
   "source": [
    "#print the odd no\n",
    "for i in range(10):\n",
    "    if i%2==0:\n",
    "        continue\n",
    "    print(i)       "
   ]
  },
  {
   "cell_type": "code",
   "execution_count": 8,
   "id": "f632ad66-28f2-404c-b632-c2bf1dbed740",
   "metadata": {},
   "outputs": [
    {
     "name": "stdout",
     "output_type": "stream",
     "text": [
      "1*1=1\n",
      "1*2=2\n",
      "1*3=3\n",
      "1*4=4\n",
      "1*5=5\n",
      "1*6=6\n",
      "1*7=7\n",
      "1*8=8\n",
      "1*9=9\n",
      "1*10=10\n",
      "\n",
      "2*1=2\n",
      "2*2=4\n",
      "2*3=6\n",
      "2*4=8\n",
      "2*5=10\n",
      "2*6=12\n",
      "2*7=14\n",
      "2*8=16\n",
      "2*9=18\n",
      "2*10=20\n",
      "\n",
      "3*1=3\n",
      "3*2=6\n",
      "3*3=9\n",
      "3*4=12\n",
      "3*5=15\n",
      "3*6=18\n",
      "3*7=21\n",
      "3*8=24\n",
      "3*9=27\n",
      "3*10=30\n",
      "\n",
      "4*1=4\n",
      "4*2=8\n",
      "4*3=12\n",
      "4*4=16\n",
      "4*5=20\n",
      "4*6=24\n",
      "4*7=28\n",
      "4*8=32\n",
      "4*9=36\n",
      "4*10=40\n",
      "\n",
      "5*1=5\n",
      "5*2=10\n",
      "5*3=15\n",
      "5*4=20\n",
      "5*5=25\n",
      "5*6=30\n",
      "5*7=35\n",
      "5*8=40\n",
      "5*9=45\n",
      "5*10=50\n",
      "\n"
     ]
    }
   ],
   "source": [
    "#multiplication table\n",
    "for i in range(1,6):\n",
    "    for j in range(1,11):\n",
    "        product =i*j\n",
    "        print(f\"{i}*{j}={product}\")\n",
    "    print()"
   ]
  },
  {
   "cell_type": "code",
   "execution_count": null,
   "id": "5bfcc997-c898-47f9-aaae-83fecda7548a",
   "metadata": {},
   "outputs": [],
   "source": []
  }
 ],
 "metadata": {
  "kernelspec": {
   "display_name": "Python 3 (ipykernel)",
   "language": "python",
   "name": "python3"
  },
  "language_info": {
   "codemirror_mode": {
    "name": "ipython",
    "version": 3
   },
   "file_extension": ".py",
   "mimetype": "text/x-python",
   "name": "python",
   "nbconvert_exporter": "python",
   "pygments_lexer": "ipython3",
   "version": "3.10.8"
  }
 },
 "nbformat": 4,
 "nbformat_minor": 5
}
